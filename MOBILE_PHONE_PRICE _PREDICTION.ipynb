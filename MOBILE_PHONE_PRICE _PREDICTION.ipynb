{
 "cells": [
  {
   "attachments": {},
   "cell_type": "markdown",
   "id": "c5640474",
   "metadata": {},
   "source": [
    "# AIM:\n",
    "\n",
    "     To predict price range for mobile company based on features like battery power,ram,mobile weight,screen height,etc.\n",
    "\n",
    "# Features given :\n",
    "\n",
    "    • battery_power: Total energy a battery can store in one time measured in mAh\n",
    "    • blue: Has bluetooth or not\n",
    "    • clock_speed: speed at which microprocessor executes instructions\n",
    "    • dual_sim: Has dual sim support or not\n",
    "    • fc: Front Camera mega pixels\n",
    "    • four_g: Has 4G or not\n",
    "    • int_memory: Internal Memory in Gigabytes\n",
    "    • m_dep: Mobile Depth in cm\n",
    "    • mobile_wt: Weight of mobile phone\n",
    "    • n_cores: Number of cores of processor\n",
    "    • pc: Primary Camera mega pixels\n",
    "    • px_height: Pixel Resolution Height\n",
    "    • px_width: Pixel Resolution Width\n",
    "    • ram: Random Access Memory in Mega Bytes\n",
    "    • sc_h: Screen Height of mobile in cm\n",
    "    • sc_w: Screen Width of mobile in cm\n",
    "    • talk_time: longest time that a single battery charge will last when you are\n",
    "    • three_g: Has 3G or not\n",
    "    • touch_screen: Has touch screen or not\n",
    "    • wifi: Has wifi or not\n",
    "    • price_range: This is the target variable with value of 0(low cost), 1(medium cost),\n",
    "    2(high cost) and 3(very high cost).\n",
    "\n",
    "# Project outcome:\n",
    "\n",
    "    This project gives scope to predict price range of mobile phone and how consumers are \n",
    "    showing interest towards mobile phones on basis of features and price.\n",
    "\n",
    "# Applied Models :\n",
    "\n",
    "    1)Logistic Regression\n",
    "    2)KNN Classification\n",
    "    3)SVM classifier with linear kernel\n",
    "    4)SVM classifier with rbf kernel"
   ]
  },
  {
   "cell_type": "markdown",
   "id": "c1a7f3e0",
   "metadata": {},
   "source": [
    "# Load Data"
   ]
  },
  {
   "cell_type": "code",
   "execution_count": 1,
   "id": "620a94c1",
   "metadata": {},
   "outputs": [],
   "source": [
    "import numpy as np\n",
    "import pandas as pd\n",
    "import matplotlib.pyplot as plt "
   ]
  },
  {
   "cell_type": "code",
   "execution_count": 2,
   "id": "c9f947f5",
   "metadata": {},
   "outputs": [],
   "source": [
    "data = pd.read_csv('C:\\\\Users\\\\posah\\\\Desktop\\\\mobile_price_range_data.csv')"
   ]
  },
  {
   "cell_type": "markdown",
   "id": "8d3d167c",
   "metadata": {},
   "source": [
    "# Data Analysis"
   ]
  },
  {
   "cell_type": "code",
   "execution_count": 3,
   "id": "2ec93950",
   "metadata": {},
   "outputs": [
    {
     "data": {
      "text/html": [
       "<div>\n",
       "<style scoped>\n",
       "    .dataframe tbody tr th:only-of-type {\n",
       "        vertical-align: middle;\n",
       "    }\n",
       "\n",
       "    .dataframe tbody tr th {\n",
       "        vertical-align: top;\n",
       "    }\n",
       "\n",
       "    .dataframe thead th {\n",
       "        text-align: right;\n",
       "    }\n",
       "</style>\n",
       "<table border=\"1\" class=\"dataframe\">\n",
       "  <thead>\n",
       "    <tr style=\"text-align: right;\">\n",
       "      <th></th>\n",
       "      <th>battery_power</th>\n",
       "      <th>blue</th>\n",
       "      <th>clock_speed</th>\n",
       "      <th>dual_sim</th>\n",
       "      <th>fc</th>\n",
       "      <th>four_g</th>\n",
       "      <th>int_memory</th>\n",
       "      <th>m_dep</th>\n",
       "      <th>mobile_wt</th>\n",
       "      <th>n_cores</th>\n",
       "      <th>...</th>\n",
       "      <th>px_height</th>\n",
       "      <th>px_width</th>\n",
       "      <th>ram</th>\n",
       "      <th>sc_h</th>\n",
       "      <th>sc_w</th>\n",
       "      <th>talk_time</th>\n",
       "      <th>three_g</th>\n",
       "      <th>touch_screen</th>\n",
       "      <th>wifi</th>\n",
       "      <th>price_range</th>\n",
       "    </tr>\n",
       "  </thead>\n",
       "  <tbody>\n",
       "    <tr>\n",
       "      <th>0</th>\n",
       "      <td>842</td>\n",
       "      <td>0</td>\n",
       "      <td>2.2</td>\n",
       "      <td>0</td>\n",
       "      <td>1</td>\n",
       "      <td>0</td>\n",
       "      <td>7</td>\n",
       "      <td>0.6</td>\n",
       "      <td>188</td>\n",
       "      <td>2</td>\n",
       "      <td>...</td>\n",
       "      <td>20</td>\n",
       "      <td>756</td>\n",
       "      <td>2549</td>\n",
       "      <td>9</td>\n",
       "      <td>7</td>\n",
       "      <td>19</td>\n",
       "      <td>0</td>\n",
       "      <td>0</td>\n",
       "      <td>1</td>\n",
       "      <td>1</td>\n",
       "    </tr>\n",
       "    <tr>\n",
       "      <th>1</th>\n",
       "      <td>1021</td>\n",
       "      <td>1</td>\n",
       "      <td>0.5</td>\n",
       "      <td>1</td>\n",
       "      <td>0</td>\n",
       "      <td>1</td>\n",
       "      <td>53</td>\n",
       "      <td>0.7</td>\n",
       "      <td>136</td>\n",
       "      <td>3</td>\n",
       "      <td>...</td>\n",
       "      <td>905</td>\n",
       "      <td>1988</td>\n",
       "      <td>2631</td>\n",
       "      <td>17</td>\n",
       "      <td>3</td>\n",
       "      <td>7</td>\n",
       "      <td>1</td>\n",
       "      <td>1</td>\n",
       "      <td>0</td>\n",
       "      <td>2</td>\n",
       "    </tr>\n",
       "    <tr>\n",
       "      <th>2</th>\n",
       "      <td>563</td>\n",
       "      <td>1</td>\n",
       "      <td>0.5</td>\n",
       "      <td>1</td>\n",
       "      <td>2</td>\n",
       "      <td>1</td>\n",
       "      <td>41</td>\n",
       "      <td>0.9</td>\n",
       "      <td>145</td>\n",
       "      <td>5</td>\n",
       "      <td>...</td>\n",
       "      <td>1263</td>\n",
       "      <td>1716</td>\n",
       "      <td>2603</td>\n",
       "      <td>11</td>\n",
       "      <td>2</td>\n",
       "      <td>9</td>\n",
       "      <td>1</td>\n",
       "      <td>1</td>\n",
       "      <td>0</td>\n",
       "      <td>2</td>\n",
       "    </tr>\n",
       "    <tr>\n",
       "      <th>3</th>\n",
       "      <td>615</td>\n",
       "      <td>1</td>\n",
       "      <td>2.5</td>\n",
       "      <td>0</td>\n",
       "      <td>0</td>\n",
       "      <td>0</td>\n",
       "      <td>10</td>\n",
       "      <td>0.8</td>\n",
       "      <td>131</td>\n",
       "      <td>6</td>\n",
       "      <td>...</td>\n",
       "      <td>1216</td>\n",
       "      <td>1786</td>\n",
       "      <td>2769</td>\n",
       "      <td>16</td>\n",
       "      <td>8</td>\n",
       "      <td>11</td>\n",
       "      <td>1</td>\n",
       "      <td>0</td>\n",
       "      <td>0</td>\n",
       "      <td>2</td>\n",
       "    </tr>\n",
       "    <tr>\n",
       "      <th>4</th>\n",
       "      <td>1821</td>\n",
       "      <td>1</td>\n",
       "      <td>1.2</td>\n",
       "      <td>0</td>\n",
       "      <td>13</td>\n",
       "      <td>1</td>\n",
       "      <td>44</td>\n",
       "      <td>0.6</td>\n",
       "      <td>141</td>\n",
       "      <td>2</td>\n",
       "      <td>...</td>\n",
       "      <td>1208</td>\n",
       "      <td>1212</td>\n",
       "      <td>1411</td>\n",
       "      <td>8</td>\n",
       "      <td>2</td>\n",
       "      <td>15</td>\n",
       "      <td>1</td>\n",
       "      <td>1</td>\n",
       "      <td>0</td>\n",
       "      <td>1</td>\n",
       "    </tr>\n",
       "  </tbody>\n",
       "</table>\n",
       "<p>5 rows × 21 columns</p>\n",
       "</div>"
      ],
      "text/plain": [
       "   battery_power  blue  clock_speed  dual_sim  fc  four_g  int_memory  m_dep  \\\n",
       "0            842     0          2.2         0   1       0           7    0.6   \n",
       "1           1021     1          0.5         1   0       1          53    0.7   \n",
       "2            563     1          0.5         1   2       1          41    0.9   \n",
       "3            615     1          2.5         0   0       0          10    0.8   \n",
       "4           1821     1          1.2         0  13       1          44    0.6   \n",
       "\n",
       "   mobile_wt  n_cores  ...  px_height  px_width   ram  sc_h  sc_w  talk_time  \\\n",
       "0        188        2  ...         20       756  2549     9     7         19   \n",
       "1        136        3  ...        905      1988  2631    17     3          7   \n",
       "2        145        5  ...       1263      1716  2603    11     2          9   \n",
       "3        131        6  ...       1216      1786  2769    16     8         11   \n",
       "4        141        2  ...       1208      1212  1411     8     2         15   \n",
       "\n",
       "   three_g  touch_screen  wifi  price_range  \n",
       "0        0             0     1            1  \n",
       "1        1             1     0            2  \n",
       "2        1             1     0            2  \n",
       "3        1             0     0            2  \n",
       "4        1             1     0            1  \n",
       "\n",
       "[5 rows x 21 columns]"
      ]
     },
     "execution_count": 3,
     "metadata": {},
     "output_type": "execute_result"
    }
   ],
   "source": [
    "data.head()"
   ]
  },
  {
   "cell_type": "code",
   "execution_count": 4,
   "id": "8729bb94",
   "metadata": {},
   "outputs": [
    {
     "data": {
      "text/html": [
       "<div>\n",
       "<style scoped>\n",
       "    .dataframe tbody tr th:only-of-type {\n",
       "        vertical-align: middle;\n",
       "    }\n",
       "\n",
       "    .dataframe tbody tr th {\n",
       "        vertical-align: top;\n",
       "    }\n",
       "\n",
       "    .dataframe thead th {\n",
       "        text-align: right;\n",
       "    }\n",
       "</style>\n",
       "<table border=\"1\" class=\"dataframe\">\n",
       "  <thead>\n",
       "    <tr style=\"text-align: right;\">\n",
       "      <th></th>\n",
       "      <th>battery_power</th>\n",
       "      <th>blue</th>\n",
       "      <th>clock_speed</th>\n",
       "      <th>dual_sim</th>\n",
       "      <th>fc</th>\n",
       "      <th>four_g</th>\n",
       "      <th>int_memory</th>\n",
       "      <th>m_dep</th>\n",
       "      <th>mobile_wt</th>\n",
       "      <th>n_cores</th>\n",
       "      <th>...</th>\n",
       "      <th>px_height</th>\n",
       "      <th>px_width</th>\n",
       "      <th>ram</th>\n",
       "      <th>sc_h</th>\n",
       "      <th>sc_w</th>\n",
       "      <th>talk_time</th>\n",
       "      <th>three_g</th>\n",
       "      <th>touch_screen</th>\n",
       "      <th>wifi</th>\n",
       "      <th>price_range</th>\n",
       "    </tr>\n",
       "  </thead>\n",
       "  <tbody>\n",
       "    <tr>\n",
       "      <th>count</th>\n",
       "      <td>2000.000000</td>\n",
       "      <td>2000.0000</td>\n",
       "      <td>2000.000000</td>\n",
       "      <td>2000.000000</td>\n",
       "      <td>2000.000000</td>\n",
       "      <td>2000.000000</td>\n",
       "      <td>2000.000000</td>\n",
       "      <td>2000.000000</td>\n",
       "      <td>2000.000000</td>\n",
       "      <td>2000.000000</td>\n",
       "      <td>...</td>\n",
       "      <td>2000.000000</td>\n",
       "      <td>2000.000000</td>\n",
       "      <td>2000.000000</td>\n",
       "      <td>2000.000000</td>\n",
       "      <td>2000.000000</td>\n",
       "      <td>2000.000000</td>\n",
       "      <td>2000.000000</td>\n",
       "      <td>2000.000000</td>\n",
       "      <td>2000.000000</td>\n",
       "      <td>2000.000000</td>\n",
       "    </tr>\n",
       "    <tr>\n",
       "      <th>mean</th>\n",
       "      <td>1238.518500</td>\n",
       "      <td>0.4950</td>\n",
       "      <td>1.522250</td>\n",
       "      <td>0.509500</td>\n",
       "      <td>4.309500</td>\n",
       "      <td>0.521500</td>\n",
       "      <td>32.046500</td>\n",
       "      <td>0.501750</td>\n",
       "      <td>140.249000</td>\n",
       "      <td>4.520500</td>\n",
       "      <td>...</td>\n",
       "      <td>645.108000</td>\n",
       "      <td>1251.515500</td>\n",
       "      <td>2124.213000</td>\n",
       "      <td>12.306500</td>\n",
       "      <td>5.767000</td>\n",
       "      <td>11.011000</td>\n",
       "      <td>0.761500</td>\n",
       "      <td>0.503000</td>\n",
       "      <td>0.507000</td>\n",
       "      <td>1.500000</td>\n",
       "    </tr>\n",
       "    <tr>\n",
       "      <th>std</th>\n",
       "      <td>439.418206</td>\n",
       "      <td>0.5001</td>\n",
       "      <td>0.816004</td>\n",
       "      <td>0.500035</td>\n",
       "      <td>4.341444</td>\n",
       "      <td>0.499662</td>\n",
       "      <td>18.145715</td>\n",
       "      <td>0.288416</td>\n",
       "      <td>35.399655</td>\n",
       "      <td>2.287837</td>\n",
       "      <td>...</td>\n",
       "      <td>443.780811</td>\n",
       "      <td>432.199447</td>\n",
       "      <td>1084.732044</td>\n",
       "      <td>4.213245</td>\n",
       "      <td>4.356398</td>\n",
       "      <td>5.463955</td>\n",
       "      <td>0.426273</td>\n",
       "      <td>0.500116</td>\n",
       "      <td>0.500076</td>\n",
       "      <td>1.118314</td>\n",
       "    </tr>\n",
       "    <tr>\n",
       "      <th>min</th>\n",
       "      <td>501.000000</td>\n",
       "      <td>0.0000</td>\n",
       "      <td>0.500000</td>\n",
       "      <td>0.000000</td>\n",
       "      <td>0.000000</td>\n",
       "      <td>0.000000</td>\n",
       "      <td>2.000000</td>\n",
       "      <td>0.100000</td>\n",
       "      <td>80.000000</td>\n",
       "      <td>1.000000</td>\n",
       "      <td>...</td>\n",
       "      <td>0.000000</td>\n",
       "      <td>500.000000</td>\n",
       "      <td>256.000000</td>\n",
       "      <td>5.000000</td>\n",
       "      <td>0.000000</td>\n",
       "      <td>2.000000</td>\n",
       "      <td>0.000000</td>\n",
       "      <td>0.000000</td>\n",
       "      <td>0.000000</td>\n",
       "      <td>0.000000</td>\n",
       "    </tr>\n",
       "    <tr>\n",
       "      <th>25%</th>\n",
       "      <td>851.750000</td>\n",
       "      <td>0.0000</td>\n",
       "      <td>0.700000</td>\n",
       "      <td>0.000000</td>\n",
       "      <td>1.000000</td>\n",
       "      <td>0.000000</td>\n",
       "      <td>16.000000</td>\n",
       "      <td>0.200000</td>\n",
       "      <td>109.000000</td>\n",
       "      <td>3.000000</td>\n",
       "      <td>...</td>\n",
       "      <td>282.750000</td>\n",
       "      <td>874.750000</td>\n",
       "      <td>1207.500000</td>\n",
       "      <td>9.000000</td>\n",
       "      <td>2.000000</td>\n",
       "      <td>6.000000</td>\n",
       "      <td>1.000000</td>\n",
       "      <td>0.000000</td>\n",
       "      <td>0.000000</td>\n",
       "      <td>0.750000</td>\n",
       "    </tr>\n",
       "    <tr>\n",
       "      <th>50%</th>\n",
       "      <td>1226.000000</td>\n",
       "      <td>0.0000</td>\n",
       "      <td>1.500000</td>\n",
       "      <td>1.000000</td>\n",
       "      <td>3.000000</td>\n",
       "      <td>1.000000</td>\n",
       "      <td>32.000000</td>\n",
       "      <td>0.500000</td>\n",
       "      <td>141.000000</td>\n",
       "      <td>4.000000</td>\n",
       "      <td>...</td>\n",
       "      <td>564.000000</td>\n",
       "      <td>1247.000000</td>\n",
       "      <td>2146.500000</td>\n",
       "      <td>12.000000</td>\n",
       "      <td>5.000000</td>\n",
       "      <td>11.000000</td>\n",
       "      <td>1.000000</td>\n",
       "      <td>1.000000</td>\n",
       "      <td>1.000000</td>\n",
       "      <td>1.500000</td>\n",
       "    </tr>\n",
       "    <tr>\n",
       "      <th>75%</th>\n",
       "      <td>1615.250000</td>\n",
       "      <td>1.0000</td>\n",
       "      <td>2.200000</td>\n",
       "      <td>1.000000</td>\n",
       "      <td>7.000000</td>\n",
       "      <td>1.000000</td>\n",
       "      <td>48.000000</td>\n",
       "      <td>0.800000</td>\n",
       "      <td>170.000000</td>\n",
       "      <td>7.000000</td>\n",
       "      <td>...</td>\n",
       "      <td>947.250000</td>\n",
       "      <td>1633.000000</td>\n",
       "      <td>3064.500000</td>\n",
       "      <td>16.000000</td>\n",
       "      <td>9.000000</td>\n",
       "      <td>16.000000</td>\n",
       "      <td>1.000000</td>\n",
       "      <td>1.000000</td>\n",
       "      <td>1.000000</td>\n",
       "      <td>2.250000</td>\n",
       "    </tr>\n",
       "    <tr>\n",
       "      <th>max</th>\n",
       "      <td>1998.000000</td>\n",
       "      <td>1.0000</td>\n",
       "      <td>3.000000</td>\n",
       "      <td>1.000000</td>\n",
       "      <td>19.000000</td>\n",
       "      <td>1.000000</td>\n",
       "      <td>64.000000</td>\n",
       "      <td>1.000000</td>\n",
       "      <td>200.000000</td>\n",
       "      <td>8.000000</td>\n",
       "      <td>...</td>\n",
       "      <td>1960.000000</td>\n",
       "      <td>1998.000000</td>\n",
       "      <td>3998.000000</td>\n",
       "      <td>19.000000</td>\n",
       "      <td>18.000000</td>\n",
       "      <td>20.000000</td>\n",
       "      <td>1.000000</td>\n",
       "      <td>1.000000</td>\n",
       "      <td>1.000000</td>\n",
       "      <td>3.000000</td>\n",
       "    </tr>\n",
       "  </tbody>\n",
       "</table>\n",
       "<p>8 rows × 21 columns</p>\n",
       "</div>"
      ],
      "text/plain": [
       "       battery_power       blue  clock_speed     dual_sim           fc  \\\n",
       "count    2000.000000  2000.0000  2000.000000  2000.000000  2000.000000   \n",
       "mean     1238.518500     0.4950     1.522250     0.509500     4.309500   \n",
       "std       439.418206     0.5001     0.816004     0.500035     4.341444   \n",
       "min       501.000000     0.0000     0.500000     0.000000     0.000000   \n",
       "25%       851.750000     0.0000     0.700000     0.000000     1.000000   \n",
       "50%      1226.000000     0.0000     1.500000     1.000000     3.000000   \n",
       "75%      1615.250000     1.0000     2.200000     1.000000     7.000000   \n",
       "max      1998.000000     1.0000     3.000000     1.000000    19.000000   \n",
       "\n",
       "            four_g   int_memory        m_dep    mobile_wt      n_cores  ...  \\\n",
       "count  2000.000000  2000.000000  2000.000000  2000.000000  2000.000000  ...   \n",
       "mean      0.521500    32.046500     0.501750   140.249000     4.520500  ...   \n",
       "std       0.499662    18.145715     0.288416    35.399655     2.287837  ...   \n",
       "min       0.000000     2.000000     0.100000    80.000000     1.000000  ...   \n",
       "25%       0.000000    16.000000     0.200000   109.000000     3.000000  ...   \n",
       "50%       1.000000    32.000000     0.500000   141.000000     4.000000  ...   \n",
       "75%       1.000000    48.000000     0.800000   170.000000     7.000000  ...   \n",
       "max       1.000000    64.000000     1.000000   200.000000     8.000000  ...   \n",
       "\n",
       "         px_height     px_width          ram         sc_h         sc_w  \\\n",
       "count  2000.000000  2000.000000  2000.000000  2000.000000  2000.000000   \n",
       "mean    645.108000  1251.515500  2124.213000    12.306500     5.767000   \n",
       "std     443.780811   432.199447  1084.732044     4.213245     4.356398   \n",
       "min       0.000000   500.000000   256.000000     5.000000     0.000000   \n",
       "25%     282.750000   874.750000  1207.500000     9.000000     2.000000   \n",
       "50%     564.000000  1247.000000  2146.500000    12.000000     5.000000   \n",
       "75%     947.250000  1633.000000  3064.500000    16.000000     9.000000   \n",
       "max    1960.000000  1998.000000  3998.000000    19.000000    18.000000   \n",
       "\n",
       "         talk_time      three_g  touch_screen         wifi  price_range  \n",
       "count  2000.000000  2000.000000   2000.000000  2000.000000  2000.000000  \n",
       "mean     11.011000     0.761500      0.503000     0.507000     1.500000  \n",
       "std       5.463955     0.426273      0.500116     0.500076     1.118314  \n",
       "min       2.000000     0.000000      0.000000     0.000000     0.000000  \n",
       "25%       6.000000     1.000000      0.000000     0.000000     0.750000  \n",
       "50%      11.000000     1.000000      1.000000     1.000000     1.500000  \n",
       "75%      16.000000     1.000000      1.000000     1.000000     2.250000  \n",
       "max      20.000000     1.000000      1.000000     1.000000     3.000000  \n",
       "\n",
       "[8 rows x 21 columns]"
      ]
     },
     "execution_count": 4,
     "metadata": {},
     "output_type": "execute_result"
    }
   ],
   "source": [
    "data.describe()"
   ]
  },
  {
   "cell_type": "code",
   "execution_count": 5,
   "id": "5ff609f7",
   "metadata": {},
   "outputs": [
    {
     "name": "stdout",
     "output_type": "stream",
     "text": [
      "<class 'pandas.core.frame.DataFrame'>\n",
      "RangeIndex: 2000 entries, 0 to 1999\n",
      "Data columns (total 21 columns):\n",
      " #   Column         Non-Null Count  Dtype  \n",
      "---  ------         --------------  -----  \n",
      " 0   battery_power  2000 non-null   int64  \n",
      " 1   blue           2000 non-null   int64  \n",
      " 2   clock_speed    2000 non-null   float64\n",
      " 3   dual_sim       2000 non-null   int64  \n",
      " 4   fc             2000 non-null   int64  \n",
      " 5   four_g         2000 non-null   int64  \n",
      " 6   int_memory     2000 non-null   int64  \n",
      " 7   m_dep          2000 non-null   float64\n",
      " 8   mobile_wt      2000 non-null   int64  \n",
      " 9   n_cores        2000 non-null   int64  \n",
      " 10  pc             2000 non-null   int64  \n",
      " 11  px_height      2000 non-null   int64  \n",
      " 12  px_width       2000 non-null   int64  \n",
      " 13  ram            2000 non-null   int64  \n",
      " 14  sc_h           2000 non-null   int64  \n",
      " 15  sc_w           2000 non-null   int64  \n",
      " 16  talk_time      2000 non-null   int64  \n",
      " 17  three_g        2000 non-null   int64  \n",
      " 18  touch_screen   2000 non-null   int64  \n",
      " 19  wifi           2000 non-null   int64  \n",
      " 20  price_range    2000 non-null   int64  \n",
      "dtypes: float64(2), int64(19)\n",
      "memory usage: 328.2 KB\n"
     ]
    }
   ],
   "source": [
    "data.info()"
   ]
  },
  {
   "cell_type": "code",
   "execution_count": 6,
   "id": "08f8a46a",
   "metadata": {},
   "outputs": [
    {
     "data": {
      "text/plain": [
       "(2000, 21)"
      ]
     },
     "execution_count": 6,
     "metadata": {},
     "output_type": "execute_result"
    }
   ],
   "source": [
    "data.shape"
   ]
  },
  {
   "cell_type": "markdown",
   "id": "892d9f60",
   "metadata": {},
   "source": [
    "# 1)Checking for null values"
   ]
  },
  {
   "cell_type": "code",
   "execution_count": 7,
   "id": "9060c184",
   "metadata": {},
   "outputs": [
    {
     "data": {
      "text/plain": [
       "battery_power    0\n",
       "blue             0\n",
       "clock_speed      0\n",
       "dual_sim         0\n",
       "fc               0\n",
       "four_g           0\n",
       "int_memory       0\n",
       "m_dep            0\n",
       "mobile_wt        0\n",
       "n_cores          0\n",
       "pc               0\n",
       "px_height        0\n",
       "px_width         0\n",
       "ram              0\n",
       "sc_h             0\n",
       "sc_w             0\n",
       "talk_time        0\n",
       "three_g          0\n",
       "touch_screen     0\n",
       "wifi             0\n",
       "price_range      0\n",
       "dtype: int64"
      ]
     },
     "execution_count": 7,
     "metadata": {},
     "output_type": "execute_result"
    }
   ],
   "source": [
    "data.isnull().sum()       #TO SEE ANY NULL VALUES"
   ]
  },
  {
   "cell_type": "markdown",
   "id": "1f7a8527",
   "metadata": {},
   "source": [
    "# Checking for duplicate values"
   ]
  },
  {
   "cell_type": "code",
   "execution_count": 8,
   "id": "846d05bb",
   "metadata": {},
   "outputs": [
    {
     "data": {
      "text/plain": [
       "0"
      ]
     },
     "execution_count": 8,
     "metadata": {},
     "output_type": "execute_result"
    }
   ],
   "source": [
    "data.duplicated().sum()"
   ]
  },
  {
   "cell_type": "markdown",
   "id": "663e0df7",
   "metadata": {},
   "source": [
    "# Data Visualization & Analysis"
   ]
  },
  {
   "cell_type": "markdown",
   "id": "1bc37b3e",
   "metadata": {},
   "source": [
    "BATTERY POWER vs PRICE RANGE"
   ]
  },
  {
   "cell_type": "code",
   "execution_count": 9,
   "id": "b3bdd5d9",
   "metadata": {},
   "outputs": [
    {
     "data": {
      "image/png": "[encoded data removed]",
      "text/plain": [
       "<Figure size 432x288 with 1 Axes>"
      ]
     },
     "metadata": {
      "needs_background": "light"
     },
     "output_type": "display_data"
    }
   ],
   "source": [
    "plt.scatter(data.battery_power,data.price_range)\n",
    "plt.xlabel(\"Battery Power\")\n",
    "plt.ylabel(\"Price Range\")\n",
    "plt.title(\"BATTERY POWER vs PRICE RANGE\")\n",
    "plt.show()"
   ]
  },
  {
   "cell_type": "markdown",
   "id": "ede60885",
   "metadata": {},
   "source": [
    "BLUETOOTH vs PRICE RANGE"
   ]
  },
  {
   "cell_type": "code",
   "execution_count": 10,
   "id": "60b6e06f",
   "metadata": {},
   "outputs": [
    {
     "data": {
      "image/png": "[encoded data removed]",
      "text/plain": [
       "<Figure size 432x288 with 1 Axes>"
      ]
     },
     "metadata": {
      "needs_background": "light"
     },
     "output_type": "display_data"
    }
   ],
   "source": [
    "plt.scatter(data.blue,data.price_range)\n",
    "plt.xlabel(\"Bluetooth\")\n",
    "plt.ylabel(\"Price Range\")\n",
    "plt.title(\"BLUETOOTH vs PRICE RANGE\")\n",
    "plt.show()"
   ]
  },
  {
   "cell_type": "markdown",
   "id": "715cf969",
   "metadata": {},
   "source": [
    "CLOCK SPEED vs PRICE RANGE"
   ]
  },
  {
   "cell_type": "code",
   "execution_count": 11,
   "id": "8c655cff",
   "metadata": {},
   "outputs": [
    {
     "data": {
      "image/png": "[encoded data removed]",
      "text/plain": [
       "<Figure size 432x288 with 1 Axes>"
      ]
     },
     "metadata": {
      "needs_background": "light"
     },
     "output_type": "display_data"
    }
   ],
   "source": [
    "plt.scatter(data.clock_speed,data.price_range)\n",
    "plt.xlabel(\"Clock Speed\")\n",
    "plt.ylabel(\"Price Range\")\n",
    "plt.title(\"CLOCK SPEED vs PRICE RANGE\")\n",
    "plt.show()"
   ]
  },
  {
   "cell_type": "code",
   "execution_count": 12,
   "id": "944db34f",
   "metadata": {},
   "outputs": [
    {
     "data": {
      "image/png": "[encoded data removed]",
      "text/plain": [
       "<Figure size 432x288 with 1 Axes>"
      ]
     },
     "metadata": {
      "needs_background": "light"
     },
     "output_type": "display_data"
    }
   ],
   "source": [
    "plt.scatter(data.dual_sim,data.price_range,marker='o',color='red',label='Dual SIM')\n",
    "plt.scatter(data.fc,data.price_range,marker='*',color='yellow',label='Front Camera')\n",
    "plt.xlabel(\"Features like Dual SIM, Front camera\")\n",
    "plt.ylabel(\"Price Range\")\n",
    "plt.legend()\n",
    "plt.title(\"Dual SIM, Front camera vs PRICE RANGE\")\n",
    "plt.show()"
   ]
  },
  {
   "cell_type": "markdown",
   "id": "653a6e6e",
   "metadata": {},
   "source": [
    "INTERNAL MEMORY vs PRICE RANGE"
   ]
  },
  {
   "cell_type": "code",
   "execution_count": 13,
   "id": "d45392c8",
   "metadata": {},
   "outputs": [
    {
     "data": {
      "image/png": "[encoded data removed]",
      "text/plain": [
       "<Figure size 432x288 with 1 Axes>"
      ]
     },
     "metadata": {
      "needs_background": "light"
     },
     "output_type": "display_data"
    }
   ],
   "source": [
    "plt.scatter(data.int_memory,data.price_range)\n",
    "plt.xlabel(\"INTERNAL MEMORY\")\n",
    "plt.ylabel(\"Price Range\")\n",
    "plt.title(\"INTERNAL MEMORY vs PRICE RANGE\")\n",
    "plt.show()"
   ]
  },
  {
   "cell_type": "markdown",
   "id": "d4109b59",
   "metadata": {},
   "source": [
    "INTERNAL MEMORY vs PRICE RANGE"
   ]
  },
  {
   "cell_type": "code",
   "execution_count": 14,
   "id": "7f3420f5",
   "metadata": {},
   "outputs": [
    {
     "data": {
      "image/png": "[encoded data removed]",
      "text/plain": [
       "<Figure size 432x288 with 1 Axes>"
      ]
     },
     "metadata": {
      "needs_background": "light"
     },
     "output_type": "display_data"
    }
   ],
   "source": [
    "plt.scatter(data.int_memory,data.price_range,marker='o',color='green')\n",
    "plt.xlabel(\"INTERNAL MEMORY\")\n",
    "plt.ylabel(\"Price Range\")\n",
    "plt.title(\"INTERNAL MEMORY vs PRICE RANGE\")\n",
    "plt.show()"
   ]
  },
  {
   "cell_type": "markdown",
   "id": "0fad9b97",
   "metadata": {},
   "source": [
    "PIXEL HEIGHT, PIXEL WIDTH vs PRICE RANGE"
   ]
  },
  {
   "cell_type": "code",
   "execution_count": 15,
   "id": "e9cd9847",
   "metadata": {},
   "outputs": [
    {
     "data": {
      "image/png": "[encoded data removed]",
      "text/plain": [
       "<Figure size 432x288 with 1 Axes>"
      ]
     },
     "metadata": {
      "needs_background": "light"
     },
     "output_type": "display_data"
    }
   ],
   "source": [
    "plt.scatter(data.px_height,data.price_range,marker='o',color='green',label='Pixel height')\n",
    "plt.scatter(data.px_width,data.price_range,marker='*',color='yellow',label='Pixel width')\n",
    "plt.xlabel(\"Features like pixel height, pixel width\")\n",
    "plt.ylabel(\"Price Range\")\n",
    "plt.legend()\n",
    "plt.title(\"Pixel Height, Pixel Width vs PRICE RANGE\")\n",
    "plt.show()"
   ]
  },
  {
   "cell_type": "markdown",
   "id": "98402646",
   "metadata": {},
   "source": [
    "RAM vs PRICE RANGE"
   ]
  },
  {
   "cell_type": "code",
   "execution_count": 16,
   "id": "30217ce4",
   "metadata": {},
   "outputs": [
    {
     "data": {
      "image/png": "[encoded data removed]",
      "text/plain": [
       "<Figure size 432x288 with 1 Axes>"
      ]
     },
     "metadata": {
      "needs_background": "light"
     },
     "output_type": "display_data"
    }
   ],
   "source": [
    "plt.scatter(data.ram,data.price_range)\n",
    "plt.xlabel(\"RAM\")\n",
    "plt.ylabel(\"PRICE RANGE\")\n",
    "plt.title(\"RAM vs PRICE RANGE\")\n",
    "plt.show()"
   ]
  },
  {
   "cell_type": "markdown",
   "id": "e4067287",
   "metadata": {},
   "source": [
    "# X & Y array"
   ]
  },
  {
   "cell_type": "code",
   "execution_count": 17,
   "id": "1749b59d",
   "metadata": {},
   "outputs": [
    {
     "name": "stdout",
     "output_type": "stream",
     "text": [
      "(2000, 20)\n",
      "(2000,)\n",
      "<class 'pandas.core.frame.DataFrame'>\n",
      "<class 'pandas.core.series.Series'>\n"
     ]
    }
   ],
   "source": [
    "x = data.iloc[:,:-1]    # x=data.drop('price_range',axis=1)\n",
    "y = data.iloc[:,-1]     # y=data['price_range']\n",
    "print(x.shape)\n",
    "print(y.shape)\n",
    "print(type(x))\n",
    "print(type(y))"
   ]
  },
  {
   "cell_type": "markdown",
   "id": "636c90e7",
   "metadata": {},
   "source": [
    "# 2)Spliting data into training and testing"
   ]
  },
  {
   "cell_type": "code",
   "execution_count": 18,
   "id": "1519add7",
   "metadata": {},
   "outputs": [
    {
     "name": "stdout",
     "output_type": "stream",
     "text": [
      "(1500, 20)\n",
      "(500, 20)\n",
      "(1500,)\n",
      "(500,)\n"
     ]
    }
   ],
   "source": [
    "from sklearn.model_selection import train_test_split\n",
    "x_train,x_test,y_train,y_test = train_test_split(x,y,test_size=0.25)\n",
    "print(x_train.shape)\n",
    "print(x_test.shape)\n",
    "print(y_train.shape)\n",
    "print(y_test.shape)"
   ]
  },
  {
   "cell_type": "code",
   "execution_count": 19,
   "id": "c7cde2df",
   "metadata": {},
   "outputs": [
    {
     "data": {
      "text/html": [
       "<div>\n",
       "<style scoped>\n",
       "    .dataframe tbody tr th:only-of-type {\n",
       "        vertical-align: middle;\n",
       "    }\n",
       "\n",
       "    .dataframe tbody tr th {\n",
       "        vertical-align: top;\n",
       "    }\n",
       "\n",
       "    .dataframe thead th {\n",
       "        text-align: right;\n",
       "    }\n",
       "</style>\n",
       "<table border=\"1\" class=\"dataframe\">\n",
       "  <thead>\n",
       "    <tr style=\"text-align: right;\">\n",
       "      <th></th>\n",
       "      <th>battery_power</th>\n",
       "      <th>blue</th>\n",
       "      <th>clock_speed</th>\n",
       "      <th>dual_sim</th>\n",
       "      <th>fc</th>\n",
       "      <th>four_g</th>\n",
       "      <th>int_memory</th>\n",
       "      <th>m_dep</th>\n",
       "      <th>mobile_wt</th>\n",
       "      <th>n_cores</th>\n",
       "      <th>pc</th>\n",
       "      <th>px_height</th>\n",
       "      <th>px_width</th>\n",
       "      <th>ram</th>\n",
       "      <th>sc_h</th>\n",
       "      <th>sc_w</th>\n",
       "      <th>talk_time</th>\n",
       "      <th>three_g</th>\n",
       "      <th>touch_screen</th>\n",
       "      <th>wifi</th>\n",
       "    </tr>\n",
       "  </thead>\n",
       "  <tbody>\n",
       "    <tr>\n",
       "      <th>0</th>\n",
       "      <td>842</td>\n",
       "      <td>0</td>\n",
       "      <td>2.2</td>\n",
       "      <td>0</td>\n",
       "      <td>1</td>\n",
       "      <td>0</td>\n",
       "      <td>7</td>\n",
       "      <td>0.6</td>\n",
       "      <td>188</td>\n",
       "      <td>2</td>\n",
       "      <td>2</td>\n",
       "      <td>20</td>\n",
       "      <td>756</td>\n",
       "      <td>2549</td>\n",
       "      <td>9</td>\n",
       "      <td>7</td>\n",
       "      <td>19</td>\n",
       "      <td>0</td>\n",
       "      <td>0</td>\n",
       "      <td>1</td>\n",
       "    </tr>\n",
       "    <tr>\n",
       "      <th>1</th>\n",
       "      <td>1021</td>\n",
       "      <td>1</td>\n",
       "      <td>0.5</td>\n",
       "      <td>1</td>\n",
       "      <td>0</td>\n",
       "      <td>1</td>\n",
       "      <td>53</td>\n",
       "      <td>0.7</td>\n",
       "      <td>136</td>\n",
       "      <td>3</td>\n",
       "      <td>6</td>\n",
       "      <td>905</td>\n",
       "      <td>1988</td>\n",
       "      <td>2631</td>\n",
       "      <td>17</td>\n",
       "      <td>3</td>\n",
       "      <td>7</td>\n",
       "      <td>1</td>\n",
       "      <td>1</td>\n",
       "      <td>0</td>\n",
       "    </tr>\n",
       "    <tr>\n",
       "      <th>2</th>\n",
       "      <td>563</td>\n",
       "      <td>1</td>\n",
       "      <td>0.5</td>\n",
       "      <td>1</td>\n",
       "      <td>2</td>\n",
       "      <td>1</td>\n",
       "      <td>41</td>\n",
       "      <td>0.9</td>\n",
       "      <td>145</td>\n",
       "      <td>5</td>\n",
       "      <td>6</td>\n",
       "      <td>1263</td>\n",
       "      <td>1716</td>\n",
       "      <td>2603</td>\n",
       "      <td>11</td>\n",
       "      <td>2</td>\n",
       "      <td>9</td>\n",
       "      <td>1</td>\n",
       "      <td>1</td>\n",
       "      <td>0</td>\n",
       "    </tr>\n",
       "    <tr>\n",
       "      <th>3</th>\n",
       "      <td>615</td>\n",
       "      <td>1</td>\n",
       "      <td>2.5</td>\n",
       "      <td>0</td>\n",
       "      <td>0</td>\n",
       "      <td>0</td>\n",
       "      <td>10</td>\n",
       "      <td>0.8</td>\n",
       "      <td>131</td>\n",
       "      <td>6</td>\n",
       "      <td>9</td>\n",
       "      <td>1216</td>\n",
       "      <td>1786</td>\n",
       "      <td>2769</td>\n",
       "      <td>16</td>\n",
       "      <td>8</td>\n",
       "      <td>11</td>\n",
       "      <td>1</td>\n",
       "      <td>0</td>\n",
       "      <td>0</td>\n",
       "    </tr>\n",
       "    <tr>\n",
       "      <th>4</th>\n",
       "      <td>1821</td>\n",
       "      <td>1</td>\n",
       "      <td>1.2</td>\n",
       "      <td>0</td>\n",
       "      <td>13</td>\n",
       "      <td>1</td>\n",
       "      <td>44</td>\n",
       "      <td>0.6</td>\n",
       "      <td>141</td>\n",
       "      <td>2</td>\n",
       "      <td>14</td>\n",
       "      <td>1208</td>\n",
       "      <td>1212</td>\n",
       "      <td>1411</td>\n",
       "      <td>8</td>\n",
       "      <td>2</td>\n",
       "      <td>15</td>\n",
       "      <td>1</td>\n",
       "      <td>1</td>\n",
       "      <td>0</td>\n",
       "    </tr>\n",
       "    <tr>\n",
       "      <th>...</th>\n",
       "      <td>...</td>\n",
       "      <td>...</td>\n",
       "      <td>...</td>\n",
       "      <td>...</td>\n",
       "      <td>...</td>\n",
       "      <td>...</td>\n",
       "      <td>...</td>\n",
       "      <td>...</td>\n",
       "      <td>...</td>\n",
       "      <td>...</td>\n",
       "      <td>...</td>\n",
       "      <td>...</td>\n",
       "      <td>...</td>\n",
       "      <td>...</td>\n",
       "      <td>...</td>\n",
       "      <td>...</td>\n",
       "      <td>...</td>\n",
       "      <td>...</td>\n",
       "      <td>...</td>\n",
       "      <td>...</td>\n",
       "    </tr>\n",
       "    <tr>\n",
       "      <th>1995</th>\n",
       "      <td>794</td>\n",
       "      <td>1</td>\n",
       "      <td>0.5</td>\n",
       "      <td>1</td>\n",
       "      <td>0</td>\n",
       "      <td>1</td>\n",
       "      <td>2</td>\n",
       "      <td>0.8</td>\n",
       "      <td>106</td>\n",
       "      <td>6</td>\n",
       "      <td>14</td>\n",
       "      <td>1222</td>\n",
       "      <td>1890</td>\n",
       "      <td>668</td>\n",
       "      <td>13</td>\n",
       "      <td>4</td>\n",
       "      <td>19</td>\n",
       "      <td>1</td>\n",
       "      <td>1</td>\n",
       "      <td>0</td>\n",
       "    </tr>\n",
       "    <tr>\n",
       "      <th>1996</th>\n",
       "      <td>1965</td>\n",
       "      <td>1</td>\n",
       "      <td>2.6</td>\n",
       "      <td>1</td>\n",
       "      <td>0</td>\n",
       "      <td>0</td>\n",
       "      <td>39</td>\n",
       "      <td>0.2</td>\n",
       "      <td>187</td>\n",
       "      <td>4</td>\n",
       "      <td>3</td>\n",
       "      <td>915</td>\n",
       "      <td>1965</td>\n",
       "      <td>2032</td>\n",
       "      <td>11</td>\n",
       "      <td>10</td>\n",
       "      <td>16</td>\n",
       "      <td>1</td>\n",
       "      <td>1</td>\n",
       "      <td>1</td>\n",
       "    </tr>\n",
       "    <tr>\n",
       "      <th>1997</th>\n",
       "      <td>1911</td>\n",
       "      <td>0</td>\n",
       "      <td>0.9</td>\n",
       "      <td>1</td>\n",
       "      <td>1</td>\n",
       "      <td>1</td>\n",
       "      <td>36</td>\n",
       "      <td>0.7</td>\n",
       "      <td>108</td>\n",
       "      <td>8</td>\n",
       "      <td>3</td>\n",
       "      <td>868</td>\n",
       "      <td>1632</td>\n",
       "      <td>3057</td>\n",
       "      <td>9</td>\n",
       "      <td>1</td>\n",
       "      <td>5</td>\n",
       "      <td>1</td>\n",
       "      <td>1</td>\n",
       "      <td>0</td>\n",
       "    </tr>\n",
       "    <tr>\n",
       "      <th>1998</th>\n",
       "      <td>1512</td>\n",
       "      <td>0</td>\n",
       "      <td>0.9</td>\n",
       "      <td>0</td>\n",
       "      <td>4</td>\n",
       "      <td>1</td>\n",
       "      <td>46</td>\n",
       "      <td>0.1</td>\n",
       "      <td>145</td>\n",
       "      <td>5</td>\n",
       "      <td>5</td>\n",
       "      <td>336</td>\n",
       "      <td>670</td>\n",
       "      <td>869</td>\n",
       "      <td>18</td>\n",
       "      <td>10</td>\n",
       "      <td>19</td>\n",
       "      <td>1</td>\n",
       "      <td>1</td>\n",
       "      <td>1</td>\n",
       "    </tr>\n",
       "    <tr>\n",
       "      <th>1999</th>\n",
       "      <td>510</td>\n",
       "      <td>1</td>\n",
       "      <td>2.0</td>\n",
       "      <td>1</td>\n",
       "      <td>5</td>\n",
       "      <td>1</td>\n",
       "      <td>45</td>\n",
       "      <td>0.9</td>\n",
       "      <td>168</td>\n",
       "      <td>6</td>\n",
       "      <td>16</td>\n",
       "      <td>483</td>\n",
       "      <td>754</td>\n",
       "      <td>3919</td>\n",
       "      <td>19</td>\n",
       "      <td>4</td>\n",
       "      <td>2</td>\n",
       "      <td>1</td>\n",
       "      <td>1</td>\n",
       "      <td>1</td>\n",
       "    </tr>\n",
       "  </tbody>\n",
       "</table>\n",
       "<p>2000 rows × 20 columns</p>\n",
       "</div>"
      ],
      "text/plain": [
       "      battery_power  blue  clock_speed  dual_sim  fc  four_g  int_memory  \\\n",
       "0               842     0          2.2         0   1       0           7   \n",
       "1              1021     1          0.5         1   0       1          53   \n",
       "2               563     1          0.5         1   2       1          41   \n",
       "3               615     1          2.5         0   0       0          10   \n",
       "4              1821     1          1.2         0  13       1          44   \n",
       "...             ...   ...          ...       ...  ..     ...         ...   \n",
       "1995            794     1          0.5         1   0       1           2   \n",
       "1996           1965     1          2.6         1   0       0          39   \n",
       "1997           1911     0          0.9         1   1       1          36   \n",
       "1998           1512     0          0.9         0   4       1          46   \n",
       "1999            510     1          2.0         1   5       1          45   \n",
       "\n",
       "      m_dep  mobile_wt  n_cores  pc  px_height  px_width   ram  sc_h  sc_w  \\\n",
       "0       0.6        188        2   2         20       756  2549     9     7   \n",
       "1       0.7        136        3   6        905      1988  2631    17     3   \n",
       "2       0.9        145        5   6       1263      1716  2603    11     2   \n",
       "3       0.8        131        6   9       1216      1786  2769    16     8   \n",
       "4       0.6        141        2  14       1208      1212  1411     8     2   \n",
       "...     ...        ...      ...  ..        ...       ...   ...   ...   ...   \n",
       "1995    0.8        106        6  14       1222      1890   668    13     4   \n",
       "1996    0.2        187        4   3        915      1965  2032    11    10   \n",
       "1997    0.7        108        8   3        868      1632  3057     9     1   \n",
       "1998    0.1        145        5   5        336       670   869    18    10   \n",
       "1999    0.9        168        6  16        483       754  3919    19     4   \n",
       "\n",
       "      talk_time  three_g  touch_screen  wifi  \n",
       "0            19        0             0     1  \n",
       "1             7        1             1     0  \n",
       "2             9        1             1     0  \n",
       "3            11        1             0     0  \n",
       "4            15        1             1     0  \n",
       "...         ...      ...           ...   ...  \n",
       "1995         19        1             1     0  \n",
       "1996         16        1             1     1  \n",
       "1997          5        1             1     0  \n",
       "1998         19        1             1     1  \n",
       "1999          2        1             1     1  \n",
       "\n",
       "[2000 rows x 20 columns]"
      ]
     },
     "execution_count": 19,
     "metadata": {},
     "output_type": "execute_result"
    }
   ],
   "source": [
    "x"
   ]
  },
  {
   "cell_type": "code",
   "execution_count": 20,
   "id": "417639df",
   "metadata": {},
   "outputs": [
    {
     "data": {
      "text/plain": [
       "0       1\n",
       "1       2\n",
       "2       2\n",
       "3       2\n",
       "4       1\n",
       "       ..\n",
       "1995    0\n",
       "1996    2\n",
       "1997    3\n",
       "1998    0\n",
       "1999    3\n",
       "Name: price_range, Length: 2000, dtype: int64"
      ]
     },
     "execution_count": 20,
     "metadata": {},
     "output_type": "execute_result"
    }
   ],
   "source": [
    "y"
   ]
  },
  {
   "cell_type": "markdown",
   "id": "39d5d1f6",
   "metadata": {},
   "source": [
    "# 3a) CREATING AND TRAINING LOGISTIC REGRESSION MODEL"
   ]
  },
  {
   "cell_type": "code",
   "execution_count": 21,
   "id": "091fa2cb",
   "metadata": {},
   "outputs": [],
   "source": [
    "from sklearn.linear_model import LogisticRegression\n",
    "m1 = LogisticRegression()"
   ]
  },
  {
   "cell_type": "code",
   "execution_count": 22,
   "id": "0e7283e4",
   "metadata": {
    "scrolled": true
   },
   "outputs": [
    {
     "name": "stderr",
     "output_type": "stream",
     "text": [
      "C:\\Users\\posah\\anaconda3\\lib\\site-packages\\sklearn\\linear_model\\_logistic.py:814: ConvergenceWarning: lbfgs failed to converge (status=1):\n",
      "STOP: TOTAL NO. of ITERATIONS REACHED LIMIT.\n",
      "\n",
      "Increase the number of iterations (max_iter) or scale the data as shown in:\n",
      "    https://scikit-learn.org/stable/modules/preprocessing.html\n",
      "Please also refer to the documentation for alternative solver options:\n",
      "    https://scikit-learn.org/stable/modules/linear_model.html#logistic-regression\n",
      "  n_iter_i = _check_optimize_result(\n"
     ]
    },
    {
     "data": {
      "text/plain": [
       "LogisticRegression()"
      ]
     },
     "execution_count": 22,
     "metadata": {},
     "output_type": "execute_result"
    }
   ],
   "source": [
    "m1.fit(x_train,y_train)"
   ]
  },
  {
   "cell_type": "code",
   "execution_count": 23,
   "id": "1ecc34b2",
   "metadata": {},
   "outputs": [
    {
     "name": "stdout",
     "output_type": "stream",
     "text": [
      "Model Score 0.6366666666666667\n"
     ]
    }
   ],
   "source": [
    "print('Model Score',m1.score(x_train,y_train))"
   ]
  },
  {
   "cell_type": "code",
   "execution_count": 24,
   "id": "cb9a3ec6",
   "metadata": {
    "scrolled": true
   },
   "outputs": [
    {
     "data": {
      "text/plain": [
       "array([3, 3, 3, 1, 1, 3, 1, 3, 1, 2, 1, 1, 3, 0, 3, 0, 2, 1, 2, 1, 2, 0,\n",
       "       3, 0, 3, 3, 1, 0, 3, 3, 3, 0, 3, 0, 3, 3, 1, 0, 1, 2, 1, 1, 0, 0,\n",
       "       2, 0, 2, 1, 1, 3, 2, 0, 0, 3, 1, 2, 2, 0, 3, 3, 1, 3, 3, 2, 3, 3,\n",
       "       0, 1, 0, 0, 3, 0, 2, 1, 2, 2, 0, 3, 1, 2, 1, 2, 2, 1, 2, 0, 3, 2,\n",
       "       1, 1, 0, 3, 0, 0, 0, 0, 1, 2, 1, 2, 2, 2, 2, 0, 1, 3, 2, 3, 3, 2,\n",
       "       0, 3, 0, 1, 1, 3, 2, 2, 1, 2, 3, 3, 0, 1, 3, 3, 0, 2, 0, 3, 2, 3,\n",
       "       1, 1, 1, 1, 0, 0, 1, 1, 3, 2, 3, 0, 0, 1, 1, 2, 1, 1, 0, 1, 1, 3,\n",
       "       1, 3, 0, 2, 1, 1, 0, 3, 1, 3, 0, 3, 2, 3, 0, 2, 0, 2, 0, 0, 1, 0,\n",
       "       2, 3, 3, 1, 1, 3, 2, 2, 0, 2, 0, 3, 1, 3, 3, 2, 3, 1, 2, 2, 0, 3,\n",
       "       2, 1, 1, 2, 0, 2, 0, 0, 3, 3, 1, 3, 3, 1, 2, 2, 3, 2, 2, 1, 2, 2,\n",
       "       2, 0, 2, 0, 3, 3, 0, 1, 3, 2, 3, 1, 3, 1, 3, 2, 2, 1, 2, 3, 3, 0,\n",
       "       3, 1, 1, 3, 1, 2, 0, 0, 0, 0, 0, 2, 1, 1, 1, 1, 3, 1, 1, 3, 3, 0,\n",
       "       2, 0, 1, 3, 3, 2, 3, 3, 2, 3, 1, 1, 1, 2, 3, 3, 0, 2, 3, 1, 2, 3,\n",
       "       3, 3, 0, 2, 0, 0, 3, 0, 3, 2, 1, 2, 3, 2, 1, 0, 0, 2, 0, 2, 1, 2,\n",
       "       1, 2, 3, 3, 3, 1, 2, 1, 0, 0, 1, 0, 0, 1, 2, 1, 1, 1, 3, 1, 2, 2,\n",
       "       3, 0, 2, 0, 2, 2, 3, 3, 1, 1, 3, 3, 2, 3, 0, 3, 3, 3, 3, 3, 3, 0,\n",
       "       1, 1, 2, 3, 3, 0, 0, 3, 1, 3, 2, 1, 1, 0, 0, 1, 3, 2, 3, 3, 1, 1,\n",
       "       1, 2, 2, 1, 1, 3, 2, 0, 3, 0, 0, 1, 3, 1, 2, 2, 0, 3, 1, 3, 1, 1,\n",
       "       3, 1, 0, 1, 3, 3, 0, 0, 3, 1, 2, 2, 0, 2, 3, 1, 1, 1, 1, 1, 2, 2,\n",
       "       1, 3, 1, 2, 3, 2, 3, 3, 3, 3, 0, 3, 2, 0, 2, 0, 1, 0, 0, 3, 1, 0,\n",
       "       2, 3, 0, 2, 3, 1, 3, 2, 3, 0, 0, 1, 3, 3, 3, 3, 0, 0, 3, 1, 2, 3,\n",
       "       3, 1, 0, 2, 0, 1, 1, 1, 0, 2, 3, 0, 3, 1, 0, 0, 2, 3, 1, 3, 0, 0,\n",
       "       0, 3, 1, 2, 0, 1, 3, 0, 0, 2, 1, 3, 1, 3, 0, 0], dtype=int64)"
      ]
     },
     "execution_count": 24,
     "metadata": {},
     "output_type": "execute_result"
    }
   ],
   "source": [
    "y_pred1 = m1.predict(x_test)\n",
    "y_pred1"
   ]
  },
  {
   "cell_type": "code",
   "execution_count": 25,
   "id": "85510a50",
   "metadata": {},
   "outputs": [],
   "source": [
    "from sklearn.metrics import precision_score, recall_score, f1_score, accuracy_score"
   ]
  },
  {
   "cell_type": "code",
   "execution_count": 26,
   "id": "504d1892",
   "metadata": {},
   "outputs": [
    {
     "name": "stdout",
     "output_type": "stream",
     "text": [
      "Accuracy by LogisticRegression :  0.64\n"
     ]
    }
   ],
   "source": [
    "m1_acc = accuracy_score(y_test,y_pred1)\n",
    "print('Accuracy by LogisticRegression : ',m1_acc)"
   ]
  },
  {
   "cell_type": "code",
   "execution_count": 27,
   "id": "67cb101b",
   "metadata": {},
   "outputs": [
    {
     "name": "stdout",
     "output_type": "stream",
     "text": [
      "Precision by LogisticRegression :  0.64\n"
     ]
    }
   ],
   "source": [
    "m1_pre = precision_score(y_test,y_pred1,average='micro')\n",
    "print('Precision by LogisticRegression : ',m1_pre)     # MEAN OF PRECISION FOR ALL PRICE RANGE"
   ]
  },
  {
   "cell_type": "code",
   "execution_count": 28,
   "id": "8ae9d9e3",
   "metadata": {},
   "outputs": [
    {
     "name": "stdout",
     "output_type": "stream",
     "text": [
      "Recall by LogisticRegression :  0.64\n"
     ]
    }
   ],
   "source": [
    "m1_rec = recall_score(y_test,y_pred1,average='micro')\n",
    "print('Recall by LogisticRegression : ',m1_rec)       # MEAN OF RECALL FOR ALL PRICE RANGE"
   ]
  },
  {
   "cell_type": "code",
   "execution_count": 29,
   "id": "55213278",
   "metadata": {},
   "outputs": [
    {
     "name": "stdout",
     "output_type": "stream",
     "text": [
      "F1-score by LogisticRegression :  0.64\n"
     ]
    }
   ],
   "source": [
    "m1_f1 = f1_score(y_test,y_pred1,average='micro')\n",
    "print('F1-score by LogisticRegression : ',m1_f1)      # MEAN OF F1 SCORE FOR ALL PRICE RANGE"
   ]
  },
  {
   "cell_type": "code",
   "execution_count": 30,
   "id": "ec2934d4",
   "metadata": {},
   "outputs": [],
   "source": [
    "from sklearn.metrics import confusion_matrix,classification_report"
   ]
  },
  {
   "cell_type": "code",
   "execution_count": 31,
   "id": "3c5fb4e0",
   "metadata": {},
   "outputs": [
    {
     "name": "stdout",
     "output_type": "stream",
     "text": [
      "[[ 96  33   1   0]\n",
      " [ 18  64  31   4]\n",
      " [  0  32  55  38]\n",
      " [  0   1  22 105]]\n",
      "              precision    recall  f1-score   support\n",
      "\n",
      "           0       0.84      0.74      0.79       130\n",
      "           1       0.49      0.55      0.52       117\n",
      "           2       0.50      0.44      0.47       125\n",
      "           3       0.71      0.82      0.76       128\n",
      "\n",
      "    accuracy                           0.64       500\n",
      "   macro avg       0.64      0.64      0.63       500\n",
      "weighted avg       0.64      0.64      0.64       500\n",
      "\n"
     ]
    }
   ],
   "source": [
    "m1_cm = confusion_matrix(y_test,y_pred1)\n",
    "print(m1_cm)\n",
    "print(classification_report(y_test,y_pred1))"
   ]
  },
  {
   "cell_type": "markdown",
   "id": "f2e98fde",
   "metadata": {},
   "source": [
    "# 3b) CREATING AND TRAINING KNN algoritm(K-Nearest Neighbours Algorithm)"
   ]
  },
  {
   "cell_type": "code",
   "execution_count": 32,
   "id": "0c729155",
   "metadata": {},
   "outputs": [],
   "source": [
    "from sklearn.neighbors import KNeighborsClassifier"
   ]
  },
  {
   "cell_type": "code",
   "execution_count": 33,
   "id": "5b598f7b",
   "metadata": {},
   "outputs": [
    {
     "data": {
      "text/plain": [
       "KNeighborsClassifier(n_neighbors=10)"
      ]
     },
     "execution_count": 33,
     "metadata": {},
     "output_type": "execute_result"
    }
   ],
   "source": [
    "m2 = KNeighborsClassifier(n_neighbors=10)\n",
    "m2.fit(x_train,y_train)"
   ]
  },
  {
   "cell_type": "code",
   "execution_count": 34,
   "id": "b275076b",
   "metadata": {},
   "outputs": [
    {
     "name": "stdout",
     "output_type": "stream",
     "text": [
      "Training score 0.9453333333333334\n",
      "Testing score 0.922\n"
     ]
    }
   ],
   "source": [
    "print('Training score',m2.score(x_train,y_train))     #ACCURATE SCORES\n",
    "print('Testing score',m2.score(x_test,y_test))"
   ]
  },
  {
   "cell_type": "code",
   "execution_count": 35,
   "id": "cd553f1c",
   "metadata": {},
   "outputs": [
    {
     "name": "stdout",
     "output_type": "stream",
     "text": [
      "[2 2 3 1 3 3 0 3 1 1 2 0 3 0 3 0 3 1 1 1 1 0 3 1 3 3 1 0 2 2 3 0 3 0 3 2 0\n",
      " 0 1 2 0 0 0 1 2 0 2 0 1 3 1 0 0 2 1 0 3 0 3 3 0 1 3 2 3 3 0 0 0 0 3 0 2 1\n",
      " 3 2 0 3 0 2 0 1 3 1 2 0 2 2 1 1 0 3 0 1 0 0 0 2 1 0 2 2 2 1 1 2 3 3 2 1 0\n",
      " 3 0 1 1 3 3 2 1 3 2 1 0 1 3 3 0 1 0 3 2 3 1 1 1 0 0 0 2 0 3 1 2 0 0 2 1 3\n",
      " 1 0 1 0 1 2 2 3 0 2 2 2 1 3 1 3 0 3 2 3 0 2 0 3 0 0 1 0 2 2 1 0 2 3 1 3 0\n",
      " 2 0 3 1 3 3 3 2 1 2 1 0 3 1 0 1 2 0 2 0 0 3 2 0 3 3 1 1 3 3 1 2 0 2 1 3 0\n",
      " 3 0 3 2 1 0 3 2 2 1 3 2 3 2 2 2 3 2 2 1 3 1 0 3 1 2 0 0 0 0 0 1 2 0 2 0 3\n",
      " 1 1 3 3 0 3 0 2 3 1 2 3 2 2 3 1 1 2 1 3 3 0 2 3 1 1 2 3 3 0 1 0 0 2 0 3 3\n",
      " 1 3 2 2 1 1 1 2 0 2 1 1 1 3 3 2 3 1 1 1 0 0 1 0 0 0 2 0 1 1 3 0 1 1 3 0 3\n",
      " 0 1 1 2 3 1 1 3 3 2 3 0 3 3 2 3 2 2 0 1 1 1 3 2 0 0 3 0 2 1 0 2 0 0 2 3 2\n",
      " 3 3 0 0 2 1 1 2 1 2 1 0 3 0 0 0 3 2 3 3 0 3 2 3 2 1 3 0 0 2 3 2 0 0 3 0 1\n",
      " 2 0 1 3 1 1 2 0 0 2 2 1 3 1 2 3 1 3 3 3 2 1 3 3 0 2 0 2 0 0 2 1 1 1 2 0 2\n",
      " 2 1 3 2 2 0 1 1 1 3 2 3 0 0 3 1 1 3 2 1 0 2 0 2 1 1 0 1 3 0 2 0 0 0 2 3 1\n",
      " 2 0 0 1 3 0 1 1 2 3 0 1 1 2 2 2 2 0 0]\n"
     ]
    }
   ],
   "source": [
    "y_pred2=m2.predict(x_test)\n",
    "print(y_pred2)"
   ]
  },
  {
   "cell_type": "code",
   "execution_count": 36,
   "id": "735b59b5",
   "metadata": {},
   "outputs": [
    {
     "name": "stdout",
     "output_type": "stream",
     "text": [
      "[[129   1   0   0]\n",
      " [  8 107   2   0]\n",
      " [  0  15 106   4]\n",
      " [  0   0   9 119]]\n",
      "              precision    recall  f1-score   support\n",
      "\n",
      "           0       0.94      0.99      0.97       130\n",
      "           1       0.87      0.91      0.89       117\n",
      "           2       0.91      0.85      0.88       125\n",
      "           3       0.97      0.93      0.95       128\n",
      "\n",
      "    accuracy                           0.92       500\n",
      "   macro avg       0.92      0.92      0.92       500\n",
      "weighted avg       0.92      0.92      0.92       500\n",
      "\n"
     ]
    }
   ],
   "source": [
    "m2_cm=confusion_matrix(y_test,y_pred2)\n",
    "print(m2_cm)\n",
    "print(classification_report(y_test,y_pred2))"
   ]
  },
  {
   "cell_type": "code",
   "execution_count": 37,
   "id": "67bd756a",
   "metadata": {},
   "outputs": [
    {
     "name": "stdout",
     "output_type": "stream",
     "text": [
      "Accuracy by KNN :  0.922\n"
     ]
    }
   ],
   "source": [
    "m2_acc = accuracy_score(y_test,y_pred2)\n",
    "print('Accuracy by KNN : ',m2_acc)"
   ]
  },
  {
   "cell_type": "code",
   "execution_count": 38,
   "id": "0173ad8a",
   "metadata": {},
   "outputs": [
    {
     "name": "stdout",
     "output_type": "stream",
     "text": [
      "Precision by KNN :  0.922\n"
     ]
    }
   ],
   "source": [
    "m2_pre = precision_score(y_test,y_pred2,average='micro')\n",
    "print('Precision by KNN : ',m2_pre)"
   ]
  },
  {
   "cell_type": "code",
   "execution_count": 39,
   "id": "a9888295",
   "metadata": {},
   "outputs": [
    {
     "name": "stdout",
     "output_type": "stream",
     "text": [
      "Recall by KNN :  0.922\n"
     ]
    }
   ],
   "source": [
    "m2_rec = recall_score(y_test,y_pred2,average='micro')\n",
    "print('Recall by KNN : ',m2_rec)"
   ]
  },
  {
   "cell_type": "code",
   "execution_count": 40,
   "id": "0ed40422",
   "metadata": {},
   "outputs": [
    {
     "name": "stdout",
     "output_type": "stream",
     "text": [
      "F1-score by KNN :  0.922\n"
     ]
    }
   ],
   "source": [
    "m2_f1 = f1_score(y_test,y_pred2,average='micro')\n",
    "print('F1-score by KNN : ',m2_f1)"
   ]
  },
  {
   "cell_type": "markdown",
   "id": "66c5845c",
   "metadata": {},
   "source": [
    "# 3c) CREATING AND TRAINING SVM CLASSIFIER WITH\n",
    "#        (i) LINEAR KERNEL"
   ]
  },
  {
   "cell_type": "code",
   "execution_count": 41,
   "id": "b59b702b",
   "metadata": {},
   "outputs": [],
   "source": [
    "from sklearn.svm import SVC"
   ]
  },
  {
   "cell_type": "code",
   "execution_count": 42,
   "id": "fcd2da23",
   "metadata": {},
   "outputs": [
    {
     "data": {
      "text/plain": [
       "SVC(C=1, kernel='linear')"
      ]
     },
     "execution_count": 42,
     "metadata": {},
     "output_type": "execute_result"
    }
   ],
   "source": [
    "m3 = SVC(kernel='linear',C=1)\n",
    "m3.fit(x_train,y_train)"
   ]
  },
  {
   "cell_type": "code",
   "execution_count": 43,
   "id": "7fa37d0b",
   "metadata": {},
   "outputs": [
    {
     "name": "stdout",
     "output_type": "stream",
     "text": [
      "Training score :  0.9913333333333333\n",
      "Testing score :  0.978\n"
     ]
    }
   ],
   "source": [
    "print('Training score : ',m3.score(x_train,y_train))   #ACCURATE\n",
    "print('Testing score : ',m3.score(x_test,y_test))"
   ]
  },
  {
   "cell_type": "code",
   "execution_count": 44,
   "id": "1d35f168",
   "metadata": {},
   "outputs": [
    {
     "name": "stdout",
     "output_type": "stream",
     "text": [
      "[3 2 3 1 3 3 0 3 1 2 2 0 3 0 3 0 3 1 1 1 1 0 3 1 3 3 1 0 2 2 3 0 3 0 3 2 0\n",
      " 0 1 2 0 0 0 1 2 0 2 0 1 3 1 0 0 2 1 0 3 0 3 3 0 1 3 2 3 3 0 0 0 0 3 0 3 1\n",
      " 3 2 0 3 0 2 0 1 3 1 2 0 2 2 1 1 0 3 0 1 0 0 0 2 1 1 3 2 2 1 1 2 3 3 2 2 0\n",
      " 3 0 1 1 3 3 2 1 3 3 1 0 1 3 3 0 1 0 3 2 3 1 1 1 0 0 0 2 0 3 1 3 0 0 2 1 3\n",
      " 1 0 1 0 1 2 1 3 0 2 2 2 0 3 1 3 0 3 2 3 0 2 0 3 0 0 1 0 2 3 1 0 2 3 1 3 0\n",
      " 2 0 3 1 2 3 3 2 1 2 2 0 3 1 0 2 2 0 2 0 0 3 2 0 3 3 1 1 2 3 1 2 0 2 1 3 0\n",
      " 3 0 3 2 1 0 3 2 2 1 3 2 3 2 2 2 3 2 2 1 3 1 1 3 1 2 0 0 0 0 0 1 2 0 2 0 3\n",
      " 1 2 3 3 0 3 0 2 3 1 2 3 2 2 3 1 1 2 1 3 3 0 2 3 1 1 2 3 3 0 1 0 0 2 0 3 3\n",
      " 2 3 2 2 2 1 1 2 0 2 1 2 1 3 3 3 3 1 1 1 0 0 1 0 0 1 2 0 1 1 3 0 2 1 3 0 3\n",
      " 0 1 1 3 3 1 1 3 3 2 3 0 2 3 2 3 2 3 0 1 1 1 3 3 0 0 3 0 2 1 0 2 0 0 2 3 2\n",
      " 3 3 0 0 2 1 1 2 1 2 1 0 3 0 0 0 3 2 3 3 0 3 2 3 2 1 3 0 0 2 3 2 1 0 3 1 1\n",
      " 2 0 1 3 1 1 2 0 0 2 2 1 3 1 2 3 1 3 3 3 2 1 3 3 0 2 0 2 0 0 2 1 1 1 2 0 2\n",
      " 2 1 3 2 2 0 1 1 1 3 3 3 0 0 3 1 1 3 2 1 0 2 0 1 1 1 0 1 3 0 2 0 0 0 2 3 1\n",
      " 2 0 0 1 3 0 1 1 2 3 1 1 2 2 3 2 2 0 0]\n"
     ]
    }
   ],
   "source": [
    "y_pred3 = m3.predict(x_test)\n",
    "print(y_pred3)"
   ]
  },
  {
   "cell_type": "code",
   "execution_count": 45,
   "id": "be290c6b",
   "metadata": {},
   "outputs": [
    {
     "name": "stdout",
     "output_type": "stream",
     "text": [
      "[[130   0   0   0]\n",
      " [  2 115   0   0]\n",
      " [  0   5 116   4]\n",
      " [  0   0   0 128]]\n",
      "              precision    recall  f1-score   support\n",
      "\n",
      "           0       0.98      1.00      0.99       130\n",
      "           1       0.96      0.98      0.97       117\n",
      "           2       1.00      0.93      0.96       125\n",
      "           3       0.97      1.00      0.98       128\n",
      "\n",
      "    accuracy                           0.98       500\n",
      "   macro avg       0.98      0.98      0.98       500\n",
      "weighted avg       0.98      0.98      0.98       500\n",
      "\n"
     ]
    }
   ],
   "source": [
    "m3_cm = confusion_matrix(y_test,y_pred3)\n",
    "print(m3_cm)\n",
    "print(classification_report(y_test,y_pred3))"
   ]
  },
  {
   "cell_type": "code",
   "execution_count": 46,
   "id": "30b5426d",
   "metadata": {},
   "outputs": [
    {
     "name": "stdout",
     "output_type": "stream",
     "text": [
      "Accuracy by SVM classifier with linear kernel :  0.978\n"
     ]
    }
   ],
   "source": [
    "m3_acc = accuracy_score(y_test,y_pred3)\n",
    "print('Accuracy by SVM classifier with linear kernel : ',m3_acc)"
   ]
  },
  {
   "cell_type": "code",
   "execution_count": 47,
   "id": "e5f46000",
   "metadata": {},
   "outputs": [
    {
     "name": "stdout",
     "output_type": "stream",
     "text": [
      "Precision by SVM classifier with linear kernel :  0.978\n"
     ]
    }
   ],
   "source": [
    "m3_pre = accuracy_score(y_test,y_pred3)\n",
    "print('Precision by SVM classifier with linear kernel : ',m3_pre)"
   ]
  },
  {
   "cell_type": "code",
   "execution_count": 48,
   "id": "3a0cd4ab",
   "metadata": {},
   "outputs": [
    {
     "name": "stdout",
     "output_type": "stream",
     "text": [
      "Recall by SVM classifier with linear kernel :  0.978\n"
     ]
    }
   ],
   "source": [
    "m3_rec = recall_score(y_test,y_pred3,average='micro')\n",
    "print('Recall by SVM classifier with linear kernel : ',m3_rec)"
   ]
  },
  {
   "cell_type": "code",
   "execution_count": 49,
   "id": "8acef0bb",
   "metadata": {},
   "outputs": [
    {
     "name": "stdout",
     "output_type": "stream",
     "text": [
      "F1 by SVM classifier with linear kernel :  0.978\n"
     ]
    }
   ],
   "source": [
    "m3_f1 = f1_score(y_test,y_pred3,average='micro')\n",
    "print('F1 by SVM classifier with linear kernel : ',m3_f1)"
   ]
  },
  {
   "cell_type": "markdown",
   "id": "f3ac372f",
   "metadata": {},
   "source": [
    "# (ii) rbf KERNEL"
   ]
  },
  {
   "cell_type": "code",
   "execution_count": 50,
   "id": "d160dc45",
   "metadata": {},
   "outputs": [
    {
     "data": {
      "text/plain": [
       "SVC(C=1, gamma=0.01)"
      ]
     },
     "execution_count": 50,
     "metadata": {},
     "output_type": "execute_result"
    }
   ],
   "source": [
    "m4 = SVC(kernel='rbf',gamma=0.01,C=1)\n",
    "m4.fit(x_train,y_train)"
   ]
  },
  {
   "cell_type": "code",
   "execution_count": 51,
   "id": "7c214898",
   "metadata": {},
   "outputs": [
    {
     "name": "stdout",
     "output_type": "stream",
     "text": [
      "Training Score :  1.0\n",
      "Testing Score :  0.234\n"
     ]
    }
   ],
   "source": [
    "print('Training Score : ',m4.score(x_train,y_train))    #ACCURATE\n",
    "print('Testing Score : ',m4.score(x_test,y_test))"
   ]
  },
  {
   "cell_type": "code",
   "execution_count": 52,
   "id": "8dcf942f",
   "metadata": {},
   "outputs": [
    {
     "name": "stdout",
     "output_type": "stream",
     "text": [
      "[1 1 1 1 1 1 1 1 1 1 1 1 1 1 1 1 1 1 1 1 1 1 1 1 1 1 1 1 1 1 1 1 1 1 1 1 1\n",
      " 1 1 1 1 1 1 1 1 1 1 1 1 1 1 1 1 1 1 1 1 1 1 1 1 1 1 1 1 1 1 1 1 1 1 1 1 1\n",
      " 1 1 1 1 1 1 1 1 1 1 1 1 1 1 1 1 1 1 1 1 1 1 1 1 1 1 1 1 1 1 1 1 1 1 1 1 1\n",
      " 1 1 1 1 1 1 1 1 1 1 1 1 1 1 1 1 1 1 1 1 1 1 1 1 1 1 1 1 1 1 1 1 1 1 1 1 1\n",
      " 1 1 1 1 1 1 1 1 1 1 1 1 1 1 1 1 1 1 1 1 1 1 1 1 1 1 1 1 1 1 1 1 1 1 1 1 1\n",
      " 1 1 1 1 1 1 1 1 1 1 1 1 1 1 1 1 1 1 1 1 1 1 1 1 1 1 1 1 1 1 1 1 1 1 1 1 1\n",
      " 1 1 1 1 1 1 1 1 1 1 1 1 1 1 1 1 1 1 1 1 1 1 1 1 1 1 1 1 1 1 1 1 1 1 1 1 1\n",
      " 1 1 1 1 1 1 1 1 1 1 1 1 1 1 1 1 1 1 1 1 1 1 1 1 1 1 1 1 1 1 1 1 1 1 1 1 1\n",
      " 1 1 1 1 1 1 1 1 1 1 1 1 1 1 1 1 1 1 1 1 1 1 1 1 1 1 1 1 1 1 1 1 1 1 1 1 1\n",
      " 1 1 1 1 1 1 1 1 1 1 1 1 1 1 1 1 1 1 1 1 1 1 1 1 1 1 1 1 1 1 1 1 1 1 1 1 1\n",
      " 1 1 1 1 1 1 1 1 1 1 1 1 1 1 1 1 1 1 1 1 1 1 1 1 1 1 1 1 1 1 1 1 1 1 1 1 1\n",
      " 1 1 1 1 1 1 1 1 1 1 1 1 1 1 1 1 1 1 1 1 1 1 1 1 1 1 1 1 1 1 1 1 1 1 1 1 1\n",
      " 1 1 1 1 1 1 1 1 1 1 1 1 1 1 1 1 1 1 1 1 1 1 1 1 1 1 1 1 1 1 1 1 1 1 1 1 1\n",
      " 1 1 1 1 1 1 1 1 1 1 1 1 1 1 1 1 1 1 1]\n"
     ]
    }
   ],
   "source": [
    "y_pred4 = m4.predict(x_test)\n",
    "print(y_pred4)"
   ]
  },
  {
   "cell_type": "code",
   "execution_count": 53,
   "id": "104fb3b9",
   "metadata": {},
   "outputs": [
    {
     "name": "stdout",
     "output_type": "stream",
     "text": [
      "[[  0 130   0   0]\n",
      " [  0 117   0   0]\n",
      " [  0 125   0   0]\n",
      " [  0 128   0   0]]\n",
      "              precision    recall  f1-score   support\n",
      "\n",
      "           0       0.00      0.00      0.00       130\n",
      "           1       0.23      1.00      0.38       117\n",
      "           2       0.00      0.00      0.00       125\n",
      "           3       0.00      0.00      0.00       128\n",
      "\n",
      "    accuracy                           0.23       500\n",
      "   macro avg       0.06      0.25      0.09       500\n",
      "weighted avg       0.05      0.23      0.09       500\n",
      "\n"
     ]
    },
    {
     "name": "stderr",
     "output_type": "stream",
     "text": [
      "C:\\Users\\posah\\anaconda3\\lib\\site-packages\\sklearn\\metrics\\_classification.py:1318: UndefinedMetricWarning: Precision and F-score are ill-defined and being set to 0.0 in labels with no predicted samples. Use `zero_division` parameter to control this behavior.\n",
      "  _warn_prf(average, modifier, msg_start, len(result))\n",
      "C:\\Users\\posah\\anaconda3\\lib\\site-packages\\sklearn\\metrics\\_classification.py:1318: UndefinedMetricWarning: Precision and F-score are ill-defined and being set to 0.0 in labels with no predicted samples. Use `zero_division` parameter to control this behavior.\n",
      "  _warn_prf(average, modifier, msg_start, len(result))\n",
      "C:\\Users\\posah\\anaconda3\\lib\\site-packages\\sklearn\\metrics\\_classification.py:1318: UndefinedMetricWarning: Precision and F-score are ill-defined and being set to 0.0 in labels with no predicted samples. Use `zero_division` parameter to control this behavior.\n",
      "  _warn_prf(average, modifier, msg_start, len(result))\n"
     ]
    }
   ],
   "source": [
    "m4_cm=confusion_matrix(y_test,y_pred4)\n",
    "print(m4_cm)\n",
    "print(classification_report(y_test,y_pred4))"
   ]
  },
  {
   "cell_type": "code",
   "execution_count": 54,
   "id": "86e9e11d",
   "metadata": {},
   "outputs": [
    {
     "name": "stdout",
     "output_type": "stream",
     "text": [
      "Accuracy by SVM classifier with rbf kernel :  0.234\n"
     ]
    }
   ],
   "source": [
    "m4_acc = accuracy_score(y_test,y_pred4)\n",
    "print('Accuracy by SVM classifier with rbf kernel : ',m4_acc)"
   ]
  },
  {
   "cell_type": "code",
   "execution_count": 55,
   "id": "c5a23dc9",
   "metadata": {},
   "outputs": [
    {
     "name": "stdout",
     "output_type": "stream",
     "text": [
      "Precision by SVM classifier with rbf kernel :  0.234\n"
     ]
    }
   ],
   "source": [
    "m4_pre = precision_score(y_test,y_pred4,average='micro')\n",
    "print('Precision by SVM classifier with rbf kernel : ',m4_pre)"
   ]
  },
  {
   "cell_type": "code",
   "execution_count": 56,
   "id": "b51f14f0",
   "metadata": {},
   "outputs": [
    {
     "name": "stdout",
     "output_type": "stream",
     "text": [
      "Recall by SVM classifier with rbf kernel :  0.234\n"
     ]
    }
   ],
   "source": [
    "m4_rec = recall_score(y_test,y_pred4,average='micro')\n",
    "print('Recall by SVM classifier with rbf kernel : ',m4_rec)"
   ]
  },
  {
   "cell_type": "code",
   "execution_count": 57,
   "id": "95def41b",
   "metadata": {},
   "outputs": [
    {
     "name": "stdout",
     "output_type": "stream",
     "text": [
      "F1-score by SVM classifier with rbf kernel :  0.234\n"
     ]
    }
   ],
   "source": [
    "m4_f1 = f1_score(y_test,y_pred4,average='micro')\n",
    "print('F1-score by SVM classifier with rbf kernel : ',m4_f1)"
   ]
  },
  {
   "cell_type": "markdown",
   "id": "47afb060",
   "metadata": {},
   "source": [
    "# PLOTING GRAPH TO KNOW WHICH ALGORITHM IS BEST TO PREDICT PRICE RANGE"
   ]
  },
  {
   "cell_type": "code",
   "execution_count": 58,
   "id": "ca915aa8",
   "metadata": {},
   "outputs": [
    {
     "data": {
      "image/png": "[encoded data removed]",
      "text/plain": [
       "<Figure size 432x288 with 1 Axes>"
      ]
     },
     "metadata": {
      "needs_background": "light"
     },
     "output_type": "display_data"
    }
   ],
   "source": [
    "plt.bar(x=['m1','m2','m3','m4'],height=[m1_acc,m2_acc,m3_acc,m4_acc])\n",
    "plt.xlabel('Algorithms')\n",
    "plt.ylabel('Accuracy Score')\n",
    "plt.show()"
   ]
  },
  {
   "cell_type": "markdown",
   "id": "735defd0",
   "metadata": {},
   "source": [
    "Here m1 is Logisitic Regression\n",
    "     m2 is KNN Algorithm\n",
    "     m3 is SVM with linear kernel\n",
    "     m4 is SVM with rbf kernel\n",
    "By observing graph plotted above we come into conclude that SVM with linear kernel model gives best\n",
    "performs. Hence,we are predicting our price range of mobile with SVM linear kernel for given data."
   ]
  },
  {
   "cell_type": "markdown",
   "id": "9e5bd72c",
   "metadata": {},
   "source": [
    "# 4) PREDECTING PRICE RANGE FOR TEST DATA BY SVM CLASSIFIER WITH LINEAR KERNEL"
   ]
  },
  {
   "cell_type": "code",
   "execution_count": 59,
   "id": "b0d09088",
   "metadata": {},
   "outputs": [
    {
     "name": "stdout",
     "output_type": "stream",
     "text": [
      "[3 2 3 1 3 3 0 3 1 2 2 0 3 0 3 0 3 1 1 1 1 0 3 1 3 3 1 0 2 2 3 0 3 0 3 2 0\n",
      " 0 1 2 0 0 0 1 2 0 2 0 1 3 1 0 0 2 1 0 3 0 3 3 0 1 3 2 3 3 0 0 0 0 3 0 3 1\n",
      " 3 2 0 3 0 2 0 1 3 1 2 0 2 2 1 1 0 3 0 1 0 0 0 2 1 1 3 2 2 1 1 2 3 3 2 2 0\n",
      " 3 0 1 1 3 3 2 1 3 3 1 0 1 3 3 0 1 0 3 2 3 1 1 1 0 0 0 2 0 3 1 3 0 0 2 1 3\n",
      " 1 0 1 0 1 2 1 3 0 2 2 2 0 3 1 3 0 3 2 3 0 2 0 3 0 0 1 0 2 3 1 0 2 3 1 3 0\n",
      " 2 0 3 1 2 3 3 2 1 2 2 0 3 1 0 2 2 0 2 0 0 3 2 0 3 3 1 1 2 3 1 2 0 2 1 3 0\n",
      " 3 0 3 2 1 0 3 2 2 1 3 2 3 2 2 2 3 2 2 1 3 1 1 3 1 2 0 0 0 0 0 1 2 0 2 0 3\n",
      " 1 2 3 3 0 3 0 2 3 1 2 3 2 2 3 1 1 2 1 3 3 0 2 3 1 1 2 3 3 0 1 0 0 2 0 3 3\n",
      " 2 3 2 2 2 1 1 2 0 2 1 2 1 3 3 3 3 1 1 1 0 0 1 0 0 1 2 0 1 1 3 0 2 1 3 0 3\n",
      " 0 1 1 3 3 1 1 3 3 2 3 0 2 3 2 3 2 3 0 1 1 1 3 3 0 0 3 0 2 1 0 2 0 0 2 3 2\n",
      " 3 3 0 0 2 1 1 2 1 2 1 0 3 0 0 0 3 2 3 3 0 3 2 3 2 1 3 0 0 2 3 2 1 0 3 1 1\n",
      " 2 0 1 3 1 1 2 0 0 2 2 1 3 1 2 3 1 3 3 3 2 1 3 3 0 2 0 2 0 0 2 1 1 1 2 0 2\n",
      " 2 1 3 2 2 0 1 1 1 3 3 3 0 0 3 1 1 3 2 1 0 2 0 1 1 1 0 1 3 0 2 0 0 0 2 3 1\n",
      " 2 0 0 1 3 0 1 1 2 3 1 1 2 2 3 2 2 0 0]\n"
     ]
    }
   ],
   "source": [
    "predi = m3.predict(x_test)\n",
    "print(predi)"
   ]
  },
  {
   "cell_type": "markdown",
   "id": "c053fd89",
   "metadata": {},
   "source": [
    "ADDING TEST PREDICTION PRICE TO x_test"
   ]
  },
  {
   "cell_type": "code",
   "execution_count": 60,
   "id": "3b5e92ed",
   "metadata": {},
   "outputs": [
    {
     "data": {
      "text/html": [
       "<div>\n",
       "<style scoped>\n",
       "    .dataframe tbody tr th:only-of-type {\n",
       "        vertical-align: middle;\n",
       "    }\n",
       "\n",
       "    .dataframe tbody tr th {\n",
       "        vertical-align: top;\n",
       "    }\n",
       "\n",
       "    .dataframe thead th {\n",
       "        text-align: right;\n",
       "    }\n",
       "</style>\n",
       "<table border=\"1\" class=\"dataframe\">\n",
       "  <thead>\n",
       "    <tr style=\"text-align: right;\">\n",
       "      <th></th>\n",
       "      <th>battery_power</th>\n",
       "      <th>blue</th>\n",
       "      <th>clock_speed</th>\n",
       "      <th>dual_sim</th>\n",
       "      <th>fc</th>\n",
       "      <th>four_g</th>\n",
       "      <th>int_memory</th>\n",
       "      <th>m_dep</th>\n",
       "      <th>mobile_wt</th>\n",
       "      <th>n_cores</th>\n",
       "      <th>...</th>\n",
       "      <th>px_height</th>\n",
       "      <th>px_width</th>\n",
       "      <th>ram</th>\n",
       "      <th>sc_h</th>\n",
       "      <th>sc_w</th>\n",
       "      <th>talk_time</th>\n",
       "      <th>three_g</th>\n",
       "      <th>touch_screen</th>\n",
       "      <th>wifi</th>\n",
       "      <th>price_pred</th>\n",
       "    </tr>\n",
       "  </thead>\n",
       "  <tbody>\n",
       "    <tr>\n",
       "      <th>52</th>\n",
       "      <td>1654</td>\n",
       "      <td>1</td>\n",
       "      <td>1.5</td>\n",
       "      <td>1</td>\n",
       "      <td>0</td>\n",
       "      <td>1</td>\n",
       "      <td>43</td>\n",
       "      <td>0.3</td>\n",
       "      <td>109</td>\n",
       "      <td>2</td>\n",
       "      <td>...</td>\n",
       "      <td>546</td>\n",
       "      <td>629</td>\n",
       "      <td>3112</td>\n",
       "      <td>12</td>\n",
       "      <td>5</td>\n",
       "      <td>10</td>\n",
       "      <td>1</td>\n",
       "      <td>1</td>\n",
       "      <td>0</td>\n",
       "      <td>3</td>\n",
       "    </tr>\n",
       "    <tr>\n",
       "      <th>781</th>\n",
       "      <td>1368</td>\n",
       "      <td>0</td>\n",
       "      <td>3.0</td>\n",
       "      <td>1</td>\n",
       "      <td>10</td>\n",
       "      <td>0</td>\n",
       "      <td>50</td>\n",
       "      <td>0.2</td>\n",
       "      <td>97</td>\n",
       "      <td>7</td>\n",
       "      <td>...</td>\n",
       "      <td>698</td>\n",
       "      <td>829</td>\n",
       "      <td>2496</td>\n",
       "      <td>13</td>\n",
       "      <td>6</td>\n",
       "      <td>5</td>\n",
       "      <td>0</td>\n",
       "      <td>1</td>\n",
       "      <td>1</td>\n",
       "      <td>2</td>\n",
       "    </tr>\n",
       "    <tr>\n",
       "      <th>66</th>\n",
       "      <td>1358</td>\n",
       "      <td>1</td>\n",
       "      <td>0.5</td>\n",
       "      <td>0</td>\n",
       "      <td>11</td>\n",
       "      <td>1</td>\n",
       "      <td>36</td>\n",
       "      <td>0.3</td>\n",
       "      <td>155</td>\n",
       "      <td>4</td>\n",
       "      <td>...</td>\n",
       "      <td>1565</td>\n",
       "      <td>1858</td>\n",
       "      <td>3068</td>\n",
       "      <td>9</td>\n",
       "      <td>4</td>\n",
       "      <td>4</td>\n",
       "      <td>1</td>\n",
       "      <td>1</td>\n",
       "      <td>0</td>\n",
       "      <td>3</td>\n",
       "    </tr>\n",
       "    <tr>\n",
       "      <th>269</th>\n",
       "      <td>1281</td>\n",
       "      <td>1</td>\n",
       "      <td>2.3</td>\n",
       "      <td>1</td>\n",
       "      <td>0</td>\n",
       "      <td>0</td>\n",
       "      <td>28</td>\n",
       "      <td>0.3</td>\n",
       "      <td>148</td>\n",
       "      <td>1</td>\n",
       "      <td>...</td>\n",
       "      <td>1285</td>\n",
       "      <td>1617</td>\n",
       "      <td>1129</td>\n",
       "      <td>12</td>\n",
       "      <td>1</td>\n",
       "      <td>6</td>\n",
       "      <td>0</td>\n",
       "      <td>1</td>\n",
       "      <td>0</td>\n",
       "      <td>1</td>\n",
       "    </tr>\n",
       "    <tr>\n",
       "      <th>107</th>\n",
       "      <td>1657</td>\n",
       "      <td>1</td>\n",
       "      <td>2.4</td>\n",
       "      <td>0</td>\n",
       "      <td>3</td>\n",
       "      <td>0</td>\n",
       "      <td>42</td>\n",
       "      <td>0.1</td>\n",
       "      <td>198</td>\n",
       "      <td>5</td>\n",
       "      <td>...</td>\n",
       "      <td>1770</td>\n",
       "      <td>1796</td>\n",
       "      <td>2597</td>\n",
       "      <td>18</td>\n",
       "      <td>1</td>\n",
       "      <td>14</td>\n",
       "      <td>1</td>\n",
       "      <td>0</td>\n",
       "      <td>0</td>\n",
       "      <td>3</td>\n",
       "    </tr>\n",
       "    <tr>\n",
       "      <th>...</th>\n",
       "      <td>...</td>\n",
       "      <td>...</td>\n",
       "      <td>...</td>\n",
       "      <td>...</td>\n",
       "      <td>...</td>\n",
       "      <td>...</td>\n",
       "      <td>...</td>\n",
       "      <td>...</td>\n",
       "      <td>...</td>\n",
       "      <td>...</td>\n",
       "      <td>...</td>\n",
       "      <td>...</td>\n",
       "      <td>...</td>\n",
       "      <td>...</td>\n",
       "      <td>...</td>\n",
       "      <td>...</td>\n",
       "      <td>...</td>\n",
       "      <td>...</td>\n",
       "      <td>...</td>\n",
       "      <td>...</td>\n",
       "      <td>...</td>\n",
       "    </tr>\n",
       "    <tr>\n",
       "      <th>1509</th>\n",
       "      <td>1972</td>\n",
       "      <td>1</td>\n",
       "      <td>1.6</td>\n",
       "      <td>0</td>\n",
       "      <td>0</td>\n",
       "      <td>0</td>\n",
       "      <td>48</td>\n",
       "      <td>0.5</td>\n",
       "      <td>92</td>\n",
       "      <td>8</td>\n",
       "      <td>...</td>\n",
       "      <td>290</td>\n",
       "      <td>804</td>\n",
       "      <td>2872</td>\n",
       "      <td>7</td>\n",
       "      <td>2</td>\n",
       "      <td>11</td>\n",
       "      <td>1</td>\n",
       "      <td>0</td>\n",
       "      <td>1</td>\n",
       "      <td>3</td>\n",
       "    </tr>\n",
       "    <tr>\n",
       "      <th>767</th>\n",
       "      <td>1853</td>\n",
       "      <td>0</td>\n",
       "      <td>0.5</td>\n",
       "      <td>1</td>\n",
       "      <td>1</td>\n",
       "      <td>0</td>\n",
       "      <td>27</td>\n",
       "      <td>0.3</td>\n",
       "      <td>197</td>\n",
       "      <td>6</td>\n",
       "      <td>...</td>\n",
       "      <td>985</td>\n",
       "      <td>1005</td>\n",
       "      <td>1973</td>\n",
       "      <td>10</td>\n",
       "      <td>2</td>\n",
       "      <td>8</td>\n",
       "      <td>1</td>\n",
       "      <td>0</td>\n",
       "      <td>1</td>\n",
       "      <td>2</td>\n",
       "    </tr>\n",
       "    <tr>\n",
       "      <th>1407</th>\n",
       "      <td>1617</td>\n",
       "      <td>0</td>\n",
       "      <td>1.5</td>\n",
       "      <td>0</td>\n",
       "      <td>1</td>\n",
       "      <td>1</td>\n",
       "      <td>63</td>\n",
       "      <td>0.7</td>\n",
       "      <td>111</td>\n",
       "      <td>2</td>\n",
       "      <td>...</td>\n",
       "      <td>274</td>\n",
       "      <td>1079</td>\n",
       "      <td>2754</td>\n",
       "      <td>19</td>\n",
       "      <td>10</td>\n",
       "      <td>8</td>\n",
       "      <td>1</td>\n",
       "      <td>1</td>\n",
       "      <td>1</td>\n",
       "      <td>2</td>\n",
       "    </tr>\n",
       "    <tr>\n",
       "      <th>1797</th>\n",
       "      <td>873</td>\n",
       "      <td>1</td>\n",
       "      <td>0.5</td>\n",
       "      <td>1</td>\n",
       "      <td>6</td>\n",
       "      <td>0</td>\n",
       "      <td>8</td>\n",
       "      <td>0.6</td>\n",
       "      <td>152</td>\n",
       "      <td>7</td>\n",
       "      <td>...</td>\n",
       "      <td>1257</td>\n",
       "      <td>1411</td>\n",
       "      <td>575</td>\n",
       "      <td>15</td>\n",
       "      <td>8</td>\n",
       "      <td>7</td>\n",
       "      <td>1</td>\n",
       "      <td>0</td>\n",
       "      <td>1</td>\n",
       "      <td>0</td>\n",
       "    </tr>\n",
       "    <tr>\n",
       "      <th>880</th>\n",
       "      <td>1554</td>\n",
       "      <td>0</td>\n",
       "      <td>2.7</td>\n",
       "      <td>1</td>\n",
       "      <td>3</td>\n",
       "      <td>1</td>\n",
       "      <td>47</td>\n",
       "      <td>0.7</td>\n",
       "      <td>185</td>\n",
       "      <td>5</td>\n",
       "      <td>...</td>\n",
       "      <td>319</td>\n",
       "      <td>1367</td>\n",
       "      <td>509</td>\n",
       "      <td>12</td>\n",
       "      <td>3</td>\n",
       "      <td>19</td>\n",
       "      <td>1</td>\n",
       "      <td>0</td>\n",
       "      <td>0</td>\n",
       "      <td>0</td>\n",
       "    </tr>\n",
       "  </tbody>\n",
       "</table>\n",
       "<p>500 rows × 21 columns</p>\n",
       "</div>"
      ],
      "text/plain": [
       "      battery_power  blue  clock_speed  dual_sim  fc  four_g  int_memory  \\\n",
       "52             1654     1          1.5         1   0       1          43   \n",
       "781            1368     0          3.0         1  10       0          50   \n",
       "66             1358     1          0.5         0  11       1          36   \n",
       "269            1281     1          2.3         1   0       0          28   \n",
       "107            1657     1          2.4         0   3       0          42   \n",
       "...             ...   ...          ...       ...  ..     ...         ...   \n",
       "1509           1972     1          1.6         0   0       0          48   \n",
       "767            1853     0          0.5         1   1       0          27   \n",
       "1407           1617     0          1.5         0   1       1          63   \n",
       "1797            873     1          0.5         1   6       0           8   \n",
       "880            1554     0          2.7         1   3       1          47   \n",
       "\n",
       "      m_dep  mobile_wt  n_cores  ...  px_height  px_width   ram  sc_h  sc_w  \\\n",
       "52      0.3        109        2  ...        546       629  3112    12     5   \n",
       "781     0.2         97        7  ...        698       829  2496    13     6   \n",
       "66      0.3        155        4  ...       1565      1858  3068     9     4   \n",
       "269     0.3        148        1  ...       1285      1617  1129    12     1   \n",
       "107     0.1        198        5  ...       1770      1796  2597    18     1   \n",
       "...     ...        ...      ...  ...        ...       ...   ...   ...   ...   \n",
       "1509    0.5         92        8  ...        290       804  2872     7     2   \n",
       "767     0.3        197        6  ...        985      1005  1973    10     2   \n",
       "1407    0.7        111        2  ...        274      1079  2754    19    10   \n",
       "1797    0.6        152        7  ...       1257      1411   575    15     8   \n",
       "880     0.7        185        5  ...        319      1367   509    12     3   \n",
       "\n",
       "      talk_time  three_g  touch_screen  wifi  price_pred  \n",
       "52           10        1             1     0           3  \n",
       "781           5        0             1     1           2  \n",
       "66            4        1             1     0           3  \n",
       "269           6        0             1     0           1  \n",
       "107          14        1             0     0           3  \n",
       "...         ...      ...           ...   ...         ...  \n",
       "1509         11        1             0     1           3  \n",
       "767           8        1             0     1           2  \n",
       "1407          8        1             1     1           2  \n",
       "1797          7        1             0     1           0  \n",
       "880          19        1             0     0           0  \n",
       "\n",
       "[500 rows x 21 columns]"
      ]
     },
     "execution_count": 60,
     "metadata": {},
     "output_type": "execute_result"
    }
   ],
   "source": [
    "x_test['price_pred']=predi\n",
    "x_test"
   ]
  },
  {
   "cell_type": "markdown",
   "id": "70eda88f",
   "metadata": {},
   "source": [
    "# 5) COMPUTING CONFUSION MATRIX AND CLASSIFICATION REPORT FOR SVM CLASSIFIER WITH RBF KERNEL"
   ]
  },
  {
   "cell_type": "code",
   "execution_count": 61,
   "id": "3d5a6944",
   "metadata": {},
   "outputs": [
    {
     "name": "stdout",
     "output_type": "stream",
     "text": [
      "[[130   0   0   0]\n",
      " [  2 115   0   0]\n",
      " [  0   5 116   4]\n",
      " [  0   0   0 128]]\n",
      "              precision    recall  f1-score   support\n",
      "\n",
      "           0       0.98      1.00      0.99       130\n",
      "           1       0.96      0.98      0.97       117\n",
      "           2       1.00      0.93      0.96       125\n",
      "           3       0.97      1.00      0.98       128\n",
      "\n",
      "    accuracy                           0.98       500\n",
      "   macro avg       0.98      0.98      0.98       500\n",
      "weighted avg       0.98      0.98      0.98       500\n",
      "\n"
     ]
    }
   ],
   "source": [
    "m3_cm = confusion_matrix(y_test,y_pred3)\n",
    "print(m3_cm)\n",
    "print(classification_report(y_test,y_pred3))"
   ]
  },
  {
   "cell_type": "markdown",
   "id": "c3741ffc",
   "metadata": {},
   "source": [
    "• Precision is the ratio of true positive to sum of true positive and false positive of ML model predicte as Positive value.\n",
    "    \n",
    "• Recall is the ratio of true positive to sum of true positive and false negative for Actual positve values.\n",
    "    \n",
    "• F1-score is harmonic mean of precision and recall which is value 0.99 for low cost, which is nearear to 1, that says that better expected performance model(SVM Classifier with Linear Kernel).\n",
    "\n",
    "• Support is the number which says the actual occurrence of given data set. Here supporting values for Low cost is 130, Medium cost is 117, High cost is 125, Very high Cost is 128 number of values supporting"
   ]
  },
  {
   "cell_type": "code",
   "execution_count": 78,
   "id": "012be51e",
   "metadata": {},
   "outputs": [
    {
     "data": {
      "text/html": [
       "<div>\n",
       "<style scoped>\n",
       "    .dataframe tbody tr th:only-of-type {\n",
       "        vertical-align: middle;\n",
       "    }\n",
       "\n",
       "    .dataframe tbody tr th {\n",
       "        vertical-align: top;\n",
       "    }\n",
       "\n",
       "    .dataframe thead th {\n",
       "        text-align: right;\n",
       "    }\n",
       "</style>\n",
       "<table border=\"1\" class=\"dataframe\">\n",
       "  <thead>\n",
       "    <tr style=\"text-align: right;\">\n",
       "      <th></th>\n",
       "      <th>Accuracy</th>\n",
       "      <th>Precision (mean)</th>\n",
       "      <th>Recall (mean)</th>\n",
       "      <th>F1-score (mean)</th>\n",
       "    </tr>\n",
       "  </thead>\n",
       "  <tbody>\n",
       "    <tr>\n",
       "      <th>Logistic Regression</th>\n",
       "      <td>0.608</td>\n",
       "      <td>0.608</td>\n",
       "      <td>0.608</td>\n",
       "      <td>0.608</td>\n",
       "    </tr>\n",
       "    <tr>\n",
       "      <th>KNN</th>\n",
       "      <td>0.932</td>\n",
       "      <td>0.932</td>\n",
       "      <td>0.932</td>\n",
       "      <td>0.932</td>\n",
       "    </tr>\n",
       "    <tr>\n",
       "      <th>SVM with Linear Kernel</th>\n",
       "      <td>0.974</td>\n",
       "      <td>0.974</td>\n",
       "      <td>0.974</td>\n",
       "      <td>0.974</td>\n",
       "    </tr>\n",
       "    <tr>\n",
       "      <th>SVM with rbf Kernel</th>\n",
       "      <td>0.246</td>\n",
       "      <td>0.246</td>\n",
       "      <td>0.246</td>\n",
       "      <td>0.246</td>\n",
       "    </tr>\n",
       "  </tbody>\n",
       "</table>\n",
       "</div>"
      ],
      "text/plain": [
       "                        Accuracy  Precision (mean)  Recall (mean)  \\\n",
       "Logistic Regression        0.608             0.608          0.608   \n",
       "KNN                        0.932             0.932          0.932   \n",
       "SVM with Linear Kernel     0.974             0.974          0.974   \n",
       "SVM with rbf Kernel        0.246             0.246          0.246   \n",
       "\n",
       "                        F1-score (mean)  \n",
       "Logistic Regression               0.608  \n",
       "KNN                               0.932  \n",
       "SVM with Linear Kernel            0.974  \n",
       "SVM with rbf Kernel               0.246  "
      ]
     },
     "execution_count": 78,
     "metadata": {},
     "output_type": "execute_result"
    }
   ],
   "source": [
    "x1 = {'Accuracy':[m1_acc,m2_acc,m3_acc,m4_acc],\n",
    "      'Precision (mean)':[m1_pre,m2_pre,m3_pre,m4_pre],   # MEAN OF ALL COST RANGE\n",
    "        'Recall (mean)':[m1_rec,m2_rec,m3_rec,m4_rec],\n",
    "         'F1-score (mean)':[m1_f1,m2_f1,m3_f1,m4_f1]}\n",
    "x2 = ['Logistic Regression','KNN','SVM with Linear Kernel','SVM with rbf Kernel']\n",
    "df=pd.DataFrame(x1,x2)\n",
    "df"
   ]
  },
  {
   "cell_type": "markdown",
   "id": "f7825ade",
   "metadata": {},
   "source": [
    "# CONCLUSION"
   ]
  },
  {
   "attachments": {},
   "cell_type": "markdown",
   "id": "39fecefd",
   "metadata": {},
   "source": [
    "On computating it have been concluded that SVM Classifier with Linear Kernel is best model to predict\n",
    "price range of mobile phone for given data."
   ]
  }
 ],
 "metadata": {
  "kernelspec": {
   "display_name": "Python 3 (ipykernel)",
   "language": "python",
   "name": "python3"
  },
  "language_info": {
   "codemirror_mode": {
    "name": "ipython",
    "version": 3
   },
   "file_extension": ".py",
   "mimetype": "text/x-python",
   "name": "python",
   "nbconvert_exporter": "python",
   "pygments_lexer": "ipython3",
   "version": "3.9.12"
  }
 },
 "nbformat": 4,
 "nbformat_minor": 5
}
